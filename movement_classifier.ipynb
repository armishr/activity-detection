{
  "cells": [
    {
      "cell_type": "markdown",
      "metadata": {
        "id": "view-in-github",
        "colab_type": "text"
      },
      "source": [
        "<a href=\"https://colab.research.google.com/github/armishr/activity-detection/blob/main/movement_classifier.ipynb\" target=\"_parent\"><img src=\"https://colab.research.google.com/assets/colab-badge.svg\" alt=\"Open In Colab\"/></a>"
      ]
    },
    {
      "cell_type": "markdown",
      "metadata": {
        "id": "P9mjyhrAzZ6c"
      },
      "source": [
        "#Preprocessing functions"
      ]
    },
    {
      "cell_type": "code",
      "execution_count": null,
      "metadata": {
        "id": "Hf9F-yFxzjhv"
      },
      "outputs": [],
      "source": [
        "from math import sqrt\n",
        "import pandas as pd\n",
        "import matplotlib.pyplot as plt\n",
        "import numpy as np\n",
        "from sklearn.model_selection import train_test_split\n",
        "import os"
      ]
    },
    {
      "cell_type": "code",
      "execution_count": null,
      "metadata": {
        "id": "k2AWVLbu56-d"
      },
      "outputs": [],
      "source": [
        "slice_len = input_length = 30\n",
        "SIT = 0 \n",
        "WALK = 1\n",
        "JOG = 2\n",
        "TO_SKIP = 16"
      ]
    },
    {
      "cell_type": "code",
      "source": [
        "!unzip /content/training-test-accelerometer.zip"
      ],
      "metadata": {
        "id": "eqxln80T2Iot",
        "colab": {
          "base_uri": "https://localhost:8080/"
        },
        "outputId": "21b9a9fa-a2e4-4a47-c532-4918a89b8863"
      },
      "execution_count": null,
      "outputs": [
        {
          "output_type": "stream",
          "name": "stdout",
          "text": [
            "Archive:  /content/training-test-accelerometer.zip\n",
            "   creating: training-test-accelerometer/\n",
            "   creating: training-test-accelerometer/jog/\n",
            "   creating: training-test-accelerometer/jog/jog_16/\n",
            "  inflating: training-test-accelerometer/jog/jog_16/sub_1.csv  \n",
            "  inflating: training-test-accelerometer/jog/jog_16/sub_10.csv  \n",
            "  inflating: training-test-accelerometer/jog/jog_16/sub_11.csv  \n",
            "  inflating: training-test-accelerometer/jog/jog_16/sub_12.csv  \n",
            "  inflating: training-test-accelerometer/jog/jog_16/sub_13.csv  \n",
            "  inflating: training-test-accelerometer/jog/jog_16/sub_14.csv  \n",
            "  inflating: training-test-accelerometer/jog/jog_16/sub_15.csv  \n",
            "  inflating: training-test-accelerometer/jog/jog_16/sub_16.csv  \n",
            "  inflating: training-test-accelerometer/jog/jog_16/sub_17.csv  \n",
            "  inflating: training-test-accelerometer/jog/jog_16/sub_18.csv  \n",
            "  inflating: training-test-accelerometer/jog/jog_16/sub_19.csv  \n",
            "  inflating: training-test-accelerometer/jog/jog_16/sub_2.csv  \n",
            "  inflating: training-test-accelerometer/jog/jog_16/sub_20.csv  \n",
            "  inflating: training-test-accelerometer/jog/jog_16/sub_21.csv  \n",
            "  inflating: training-test-accelerometer/jog/jog_16/sub_22.csv  \n",
            "  inflating: training-test-accelerometer/jog/jog_16/sub_23.csv  \n",
            "  inflating: training-test-accelerometer/jog/jog_16/sub_24.csv  \n",
            "  inflating: training-test-accelerometer/jog/jog_16/sub_3.csv  \n",
            "  inflating: training-test-accelerometer/jog/jog_16/sub_4.csv  \n",
            "  inflating: training-test-accelerometer/jog/jog_16/sub_5.csv  \n",
            "  inflating: training-test-accelerometer/jog/jog_16/sub_6.csv  \n",
            "  inflating: training-test-accelerometer/jog/jog_16/sub_7.csv  \n",
            "  inflating: training-test-accelerometer/jog/jog_16/sub_8.csv  \n",
            "  inflating: training-test-accelerometer/jog/jog_16/sub_9.csv  \n",
            "   creating: training-test-accelerometer/jog/jog_9/\n",
            "  inflating: training-test-accelerometer/jog/jog_9/sub_1.csv  \n",
            "  inflating: training-test-accelerometer/jog/jog_9/sub_10.csv  \n",
            "  inflating: training-test-accelerometer/jog/jog_9/sub_11.csv  \n",
            "  inflating: training-test-accelerometer/jog/jog_9/sub_12.csv  \n",
            "  inflating: training-test-accelerometer/jog/jog_9/sub_13.csv  \n",
            "  inflating: training-test-accelerometer/jog/jog_9/sub_14.csv  \n",
            "  inflating: training-test-accelerometer/jog/jog_9/sub_15.csv  \n",
            "  inflating: training-test-accelerometer/jog/jog_9/sub_16.csv  \n",
            "  inflating: training-test-accelerometer/jog/jog_9/sub_17.csv  \n",
            "  inflating: training-test-accelerometer/jog/jog_9/sub_18.csv  \n",
            "  inflating: training-test-accelerometer/jog/jog_9/sub_19.csv  \n",
            "  inflating: training-test-accelerometer/jog/jog_9/sub_2.csv  \n",
            "  inflating: training-test-accelerometer/jog/jog_9/sub_20.csv  \n",
            "  inflating: training-test-accelerometer/jog/jog_9/sub_21.csv  \n",
            "  inflating: training-test-accelerometer/jog/jog_9/sub_22.csv  \n",
            "  inflating: training-test-accelerometer/jog/jog_9/sub_23.csv  \n",
            "  inflating: training-test-accelerometer/jog/jog_9/sub_24.csv  \n",
            "  inflating: training-test-accelerometer/jog/jog_9/sub_3.csv  \n",
            "  inflating: training-test-accelerometer/jog/jog_9/sub_4.csv  \n",
            "  inflating: training-test-accelerometer/jog/jog_9/sub_5.csv  \n",
            "  inflating: training-test-accelerometer/jog/jog_9/sub_6.csv  \n",
            "  inflating: training-test-accelerometer/jog/jog_9/sub_7.csv  \n",
            "  inflating: training-test-accelerometer/jog/jog_9/sub_8.csv  \n",
            "  inflating: training-test-accelerometer/jog/jog_9/sub_9.csv  \n",
            "   creating: training-test-accelerometer/sit/\n",
            "   creating: training-test-accelerometer/sit/sit_13/\n",
            "  inflating: training-test-accelerometer/sit/sit_13/sub_1.csv  \n",
            "  inflating: training-test-accelerometer/sit/sit_13/sub_10.csv  \n",
            "  inflating: training-test-accelerometer/sit/sit_13/sub_11.csv  \n",
            "  inflating: training-test-accelerometer/sit/sit_13/sub_12.csv  \n",
            "  inflating: training-test-accelerometer/sit/sit_13/sub_13.csv  \n",
            "  inflating: training-test-accelerometer/sit/sit_13/sub_14.csv  \n",
            "  inflating: training-test-accelerometer/sit/sit_13/sub_15.csv  \n",
            "  inflating: training-test-accelerometer/sit/sit_13/sub_16.csv  \n",
            "  inflating: training-test-accelerometer/sit/sit_13/sub_17.csv  \n",
            "  inflating: training-test-accelerometer/sit/sit_13/sub_18.csv  \n",
            "  inflating: training-test-accelerometer/sit/sit_13/sub_19.csv  \n",
            "  inflating: training-test-accelerometer/sit/sit_13/sub_2.csv  \n",
            "  inflating: training-test-accelerometer/sit/sit_13/sub_20.csv  \n",
            "  inflating: training-test-accelerometer/sit/sit_13/sub_21.csv  \n",
            "  inflating: training-test-accelerometer/sit/sit_13/sub_22.csv  \n",
            "  inflating: training-test-accelerometer/sit/sit_13/sub_23.csv  \n",
            "  inflating: training-test-accelerometer/sit/sit_13/sub_24.csv  \n",
            "  inflating: training-test-accelerometer/sit/sit_13/sub_3.csv  \n",
            "  inflating: training-test-accelerometer/sit/sit_13/sub_4.csv  \n",
            "  inflating: training-test-accelerometer/sit/sit_13/sub_5.csv  \n",
            "  inflating: training-test-accelerometer/sit/sit_13/sub_6.csv  \n",
            "  inflating: training-test-accelerometer/sit/sit_13/sub_7.csv  \n",
            "  inflating: training-test-accelerometer/sit/sit_13/sub_8.csv  \n",
            "  inflating: training-test-accelerometer/sit/sit_13/sub_9.csv  \n",
            "   creating: training-test-accelerometer/sit/sit_5/\n",
            "  inflating: training-test-accelerometer/sit/sit_5/sub_1.csv  \n",
            "  inflating: training-test-accelerometer/sit/sit_5/sub_10.csv  \n",
            "  inflating: training-test-accelerometer/sit/sit_5/sub_11.csv  \n",
            "  inflating: training-test-accelerometer/sit/sit_5/sub_12.csv  \n",
            "  inflating: training-test-accelerometer/sit/sit_5/sub_13.csv  \n",
            "  inflating: training-test-accelerometer/sit/sit_5/sub_14.csv  \n",
            "  inflating: training-test-accelerometer/sit/sit_5/sub_15.csv  \n",
            "  inflating: training-test-accelerometer/sit/sit_5/sub_16.csv  \n",
            "  inflating: training-test-accelerometer/sit/sit_5/sub_17.csv  \n",
            "  inflating: training-test-accelerometer/sit/sit_5/sub_18.csv  \n",
            "  inflating: training-test-accelerometer/sit/sit_5/sub_19.csv  \n",
            "  inflating: training-test-accelerometer/sit/sit_5/sub_2.csv  \n",
            "  inflating: training-test-accelerometer/sit/sit_5/sub_20.csv  \n",
            "  inflating: training-test-accelerometer/sit/sit_5/sub_21.csv  \n",
            "  inflating: training-test-accelerometer/sit/sit_5/sub_22.csv  \n",
            "  inflating: training-test-accelerometer/sit/sit_5/sub_23.csv  \n",
            "  inflating: training-test-accelerometer/sit/sit_5/sub_24.csv  \n",
            "  inflating: training-test-accelerometer/sit/sit_5/sub_3.csv  \n",
            "  inflating: training-test-accelerometer/sit/sit_5/sub_4.csv  \n",
            "  inflating: training-test-accelerometer/sit/sit_5/sub_5.csv  \n",
            "  inflating: training-test-accelerometer/sit/sit_5/sub_6.csv  \n",
            "  inflating: training-test-accelerometer/sit/sit_5/sub_7.csv  \n",
            "  inflating: training-test-accelerometer/sit/sit_5/sub_8.csv  \n",
            "  inflating: training-test-accelerometer/sit/sit_5/sub_9.csv  \n",
            "   creating: training-test-accelerometer/stand/\n",
            "   creating: training-test-accelerometer/stand/std_14/\n",
            "  inflating: training-test-accelerometer/stand/std_14/sub_1.csv  \n",
            "  inflating: training-test-accelerometer/stand/std_14/sub_10.csv  \n",
            "  inflating: training-test-accelerometer/stand/std_14/sub_11.csv  \n",
            "  inflating: training-test-accelerometer/stand/std_14/sub_12.csv  \n",
            "  inflating: training-test-accelerometer/stand/std_14/sub_13.csv  \n",
            "  inflating: training-test-accelerometer/stand/std_14/sub_14.csv  \n",
            "  inflating: training-test-accelerometer/stand/std_14/sub_15.csv  \n",
            "  inflating: training-test-accelerometer/stand/std_14/sub_16.csv  \n",
            "  inflating: training-test-accelerometer/stand/std_14/sub_17.csv  \n",
            "  inflating: training-test-accelerometer/stand/std_14/sub_18.csv  \n",
            "  inflating: training-test-accelerometer/stand/std_14/sub_19.csv  \n",
            "  inflating: training-test-accelerometer/stand/std_14/sub_2.csv  \n",
            "  inflating: training-test-accelerometer/stand/std_14/sub_20.csv  \n",
            "  inflating: training-test-accelerometer/stand/std_14/sub_21.csv  \n",
            "  inflating: training-test-accelerometer/stand/std_14/sub_22.csv  \n",
            "  inflating: training-test-accelerometer/stand/std_14/sub_23.csv  \n",
            "  inflating: training-test-accelerometer/stand/std_14/sub_24.csv  \n",
            "  inflating: training-test-accelerometer/stand/std_14/sub_3.csv  \n",
            "  inflating: training-test-accelerometer/stand/std_14/sub_4.csv  \n",
            "  inflating: training-test-accelerometer/stand/std_14/sub_5.csv  \n",
            "  inflating: training-test-accelerometer/stand/std_14/sub_6.csv  \n",
            "  inflating: training-test-accelerometer/stand/std_14/sub_7.csv  \n",
            "  inflating: training-test-accelerometer/stand/std_14/sub_8.csv  \n",
            "  inflating: training-test-accelerometer/stand/std_14/sub_9.csv  \n",
            "   creating: training-test-accelerometer/stand/std_6/\n",
            "  inflating: training-test-accelerometer/stand/std_6/sub_1.csv  \n",
            "  inflating: training-test-accelerometer/stand/std_6/sub_10.csv  \n",
            "  inflating: training-test-accelerometer/stand/std_6/sub_11.csv  \n",
            "  inflating: training-test-accelerometer/stand/std_6/sub_12.csv  \n",
            "  inflating: training-test-accelerometer/stand/std_6/sub_13.csv  \n",
            "  inflating: training-test-accelerometer/stand/std_6/sub_14.csv  \n",
            "  inflating: training-test-accelerometer/stand/std_6/sub_15.csv  \n",
            "  inflating: training-test-accelerometer/stand/std_6/sub_16.csv  \n",
            "  inflating: training-test-accelerometer/stand/std_6/sub_17.csv  \n",
            "  inflating: training-test-accelerometer/stand/std_6/sub_18.csv  \n",
            "  inflating: training-test-accelerometer/stand/std_6/sub_19.csv  \n",
            "  inflating: training-test-accelerometer/stand/std_6/sub_2.csv  \n",
            "  inflating: training-test-accelerometer/stand/std_6/sub_20.csv  \n",
            "  inflating: training-test-accelerometer/stand/std_6/sub_21.csv  \n",
            "  inflating: training-test-accelerometer/stand/std_6/sub_22.csv  \n",
            "  inflating: training-test-accelerometer/stand/std_6/sub_23.csv  \n",
            "  inflating: training-test-accelerometer/stand/std_6/sub_24.csv  \n",
            "  inflating: training-test-accelerometer/stand/std_6/sub_3.csv  \n",
            "  inflating: training-test-accelerometer/stand/std_6/sub_4.csv  \n",
            "  inflating: training-test-accelerometer/stand/std_6/sub_5.csv  \n",
            "  inflating: training-test-accelerometer/stand/std_6/sub_6.csv  \n",
            "  inflating: training-test-accelerometer/stand/std_6/sub_7.csv  \n",
            "  inflating: training-test-accelerometer/stand/std_6/sub_8.csv  \n",
            "  inflating: training-test-accelerometer/stand/std_6/sub_9.csv  \n",
            "   creating: training-test-accelerometer/walk/\n",
            "   creating: training-test-accelerometer/walk/wlk_15/\n",
            "  inflating: training-test-accelerometer/walk/wlk_15/sub_1.csv  \n",
            "  inflating: training-test-accelerometer/walk/wlk_15/sub_10.csv  \n",
            "  inflating: training-test-accelerometer/walk/wlk_15/sub_11.csv  \n",
            "  inflating: training-test-accelerometer/walk/wlk_15/sub_12.csv  \n",
            "  inflating: training-test-accelerometer/walk/wlk_15/sub_13.csv  \n",
            "  inflating: training-test-accelerometer/walk/wlk_15/sub_14.csv  \n",
            "  inflating: training-test-accelerometer/walk/wlk_15/sub_15.csv  \n",
            "  inflating: training-test-accelerometer/walk/wlk_15/sub_16.csv  \n",
            "  inflating: training-test-accelerometer/walk/wlk_15/sub_17.csv  \n",
            "  inflating: training-test-accelerometer/walk/wlk_15/sub_18.csv  \n",
            "  inflating: training-test-accelerometer/walk/wlk_15/sub_19.csv  \n",
            "  inflating: training-test-accelerometer/walk/wlk_15/sub_2.csv  \n",
            "  inflating: training-test-accelerometer/walk/wlk_15/sub_20.csv  \n",
            "  inflating: training-test-accelerometer/walk/wlk_15/sub_21.csv  \n",
            "  inflating: training-test-accelerometer/walk/wlk_15/sub_22.csv  \n",
            "  inflating: training-test-accelerometer/walk/wlk_15/sub_23.csv  \n",
            "  inflating: training-test-accelerometer/walk/wlk_15/sub_24.csv  \n",
            "  inflating: training-test-accelerometer/walk/wlk_15/sub_3.csv  \n",
            "  inflating: training-test-accelerometer/walk/wlk_15/sub_4.csv  \n",
            "  inflating: training-test-accelerometer/walk/wlk_15/sub_5.csv  \n",
            "  inflating: training-test-accelerometer/walk/wlk_15/sub_6.csv  \n",
            "  inflating: training-test-accelerometer/walk/wlk_15/sub_7.csv  \n",
            "  inflating: training-test-accelerometer/walk/wlk_15/sub_8.csv  \n",
            "  inflating: training-test-accelerometer/walk/wlk_15/sub_9.csv  \n",
            "   creating: training-test-accelerometer/walk/wlk_7/\n",
            "  inflating: training-test-accelerometer/walk/wlk_7/sub_1.csv  \n",
            "  inflating: training-test-accelerometer/walk/wlk_7/sub_10.csv  \n",
            "  inflating: training-test-accelerometer/walk/wlk_7/sub_11.csv  \n",
            "  inflating: training-test-accelerometer/walk/wlk_7/sub_12.csv  \n",
            "  inflating: training-test-accelerometer/walk/wlk_7/sub_13.csv  \n",
            "  inflating: training-test-accelerometer/walk/wlk_7/sub_14.csv  \n",
            "  inflating: training-test-accelerometer/walk/wlk_7/sub_15.csv  \n",
            "  inflating: training-test-accelerometer/walk/wlk_7/sub_16.csv  \n",
            "  inflating: training-test-accelerometer/walk/wlk_7/sub_17.csv  \n",
            "  inflating: training-test-accelerometer/walk/wlk_7/sub_18.csv  \n",
            "  inflating: training-test-accelerometer/walk/wlk_7/sub_19.csv  \n",
            "  inflating: training-test-accelerometer/walk/wlk_7/sub_2.csv  \n",
            "  inflating: training-test-accelerometer/walk/wlk_7/sub_20.csv  \n",
            "  inflating: training-test-accelerometer/walk/wlk_7/sub_21.csv  \n",
            "  inflating: training-test-accelerometer/walk/wlk_7/sub_22.csv  \n",
            "  inflating: training-test-accelerometer/walk/wlk_7/sub_23.csv  \n",
            "  inflating: training-test-accelerometer/walk/wlk_7/sub_24.csv  \n",
            "  inflating: training-test-accelerometer/walk/wlk_7/sub_3.csv  \n",
            "  inflating: training-test-accelerometer/walk/wlk_7/sub_4.csv  \n",
            "  inflating: training-test-accelerometer/walk/wlk_7/sub_5.csv  \n",
            "  inflating: training-test-accelerometer/walk/wlk_7/sub_6.csv  \n",
            "  inflating: training-test-accelerometer/walk/wlk_7/sub_7.csv  \n",
            "  inflating: training-test-accelerometer/walk/wlk_7/sub_8.csv  \n",
            "  inflating: training-test-accelerometer/walk/wlk_7/sub_9.csv  \n",
            "   creating: training-test-accelerometer/walk/wlk_8/\n",
            "  inflating: training-test-accelerometer/walk/wlk_8/sub_1.csv  \n",
            "  inflating: training-test-accelerometer/walk/wlk_8/sub_10.csv  \n",
            "  inflating: training-test-accelerometer/walk/wlk_8/sub_11.csv  \n",
            "  inflating: training-test-accelerometer/walk/wlk_8/sub_12.csv  \n",
            "  inflating: training-test-accelerometer/walk/wlk_8/sub_13.csv  \n",
            "  inflating: training-test-accelerometer/walk/wlk_8/sub_14.csv  \n",
            "  inflating: training-test-accelerometer/walk/wlk_8/sub_15.csv  \n",
            "  inflating: training-test-accelerometer/walk/wlk_8/sub_16.csv  \n",
            "  inflating: training-test-accelerometer/walk/wlk_8/sub_17.csv  \n",
            "  inflating: training-test-accelerometer/walk/wlk_8/sub_18.csv  \n",
            "  inflating: training-test-accelerometer/walk/wlk_8/sub_19.csv  \n",
            "  inflating: training-test-accelerometer/walk/wlk_8/sub_2.csv  \n",
            "  inflating: training-test-accelerometer/walk/wlk_8/sub_20.csv  \n",
            "  inflating: training-test-accelerometer/walk/wlk_8/sub_21.csv  \n",
            "  inflating: training-test-accelerometer/walk/wlk_8/sub_22.csv  \n",
            "  inflating: training-test-accelerometer/walk/wlk_8/sub_23.csv  \n",
            "  inflating: training-test-accelerometer/walk/wlk_8/sub_24.csv  \n",
            "  inflating: training-test-accelerometer/walk/wlk_8/sub_3.csv  \n",
            "  inflating: training-test-accelerometer/walk/wlk_8/sub_4.csv  \n",
            "  inflating: training-test-accelerometer/walk/wlk_8/sub_5.csv  \n",
            "  inflating: training-test-accelerometer/walk/wlk_8/sub_6.csv  \n",
            "  inflating: training-test-accelerometer/walk/wlk_8/sub_7.csv  \n",
            "  inflating: training-test-accelerometer/walk/wlk_8/sub_8.csv  \n",
            "  inflating: training-test-accelerometer/walk/wlk_8/sub_9.csv  \n"
          ]
        }
      ]
    },
    {
      "cell_type": "code",
      "source": [
        "dir_walk = '/content/training-test-accelerometer/walk'\n",
        "dir_jog = '/content/training-test-accelerometer/jog'\n",
        "dir_stand = '/content/training-test-accelerometer/stand'\n",
        "dir_sit = '/content/training-test-accelerometer/sit'\n",
        "walk_files = []\n",
        "jog_files = []\n",
        "stand_files = []\n",
        "sit_files = []\n",
        "for walk in os.listdir(dir_walk):\n",
        "  for f in os.listdir(os.path.join(dir_walk,walk)):\n",
        "    walk_files.append(os.path.join(dir_walk,walk,f))\n",
        "\n",
        "for jog in os.listdir(dir_jog):\n",
        "  for f in os.listdir(os.path.join(dir_jog,jog)):\n",
        "    jog_files.append(os.path.join(dir_jog,jog,f))\n",
        "\n",
        "for stand in os.listdir(dir_stand):\n",
        "  for f in os.listdir(os.path.join(dir_stand,stand)):\n",
        "    stand_files.append(os.path.join(dir_stand,stand,f))\n",
        "for sit in os.listdir(dir_sit):\n",
        "  for f in os.listdir(os.path.join(dir_sit,sit)):\n",
        "    sit_files.append(os.path.join(dir_sit,sit,f))"
      ],
      "metadata": {
        "id": "SpPNsioN2W_F"
      },
      "execution_count": null,
      "outputs": []
    },
    {
      "cell_type": "code",
      "source": [
        "df_walk = []\n",
        "df_jog = []\n",
        "df_stand = []\n",
        "df_sit = []\n",
        "for i in walk_files:\n",
        "  a_i = pd.read_csv(i)\n",
        "  a_i = a_i[['userAcceleration.x','userAcceleration.y','userAcceleration.z']]\n",
        "  a_i = a_i.rename(columns = {'userAcceleration.x':'gFx','userAcceleration.y':'gFy','userAcceleration.z':'gFz'})\n",
        "  df_walk.append(a_i)\n",
        "for i in jog_files:\n",
        "  a_i = pd.read_csv(i)\n",
        "  a_i = a_i[['userAcceleration.x','userAcceleration.y','userAcceleration.z']]\n",
        "  a_i = a_i.rename(columns = {'userAcceleration.x':'gFx','userAcceleration.y':'gFy','userAcceleration.z':'gFz'})\n",
        "  df_jog.append(a_i)\n",
        "for i in stand_files:\n",
        "  a_i = pd.read_csv(i)\n",
        "  a_i = a_i[['userAcceleration.x','userAcceleration.y','userAcceleration.z']]\n",
        "  a_i = a_i.rename(columns = {'userAcceleration.x':'gFx','userAcceleration.y':'gFy','userAcceleration.z':'gFz'})\n",
        "  df_stand.append(a_i)\n",
        "for i in sit_files:\n",
        "  a_i = pd.read_csv(i)\n",
        "  a_i = a_i[['userAcceleration.x','userAcceleration.y','userAcceleration.z']]\n",
        "  a_i = a_i.rename(columns = {'userAcceleration.x':'gFx','userAcceleration.y':'gFy','userAcceleration.z':'gFz'})\n",
        "  df_sit.append(a_i)\n",
        "\n",
        "\n",
        "len(df_jog)"
      ],
      "metadata": {
        "colab": {
          "base_uri": "https://localhost:8080/"
        },
        "id": "4Ng2de0Y27Ak",
        "outputId": "a99e05e9-f35b-4b94-ee89-96096698769a"
      },
      "execution_count": null,
      "outputs": [
        {
          "output_type": "execute_result",
          "data": {
            "text/plain": [
              "48"
            ]
          },
          "metadata": {},
          "execution_count": 5
        }
      ]
    },
    {
      "cell_type": "code",
      "source": [
        "df_stand[0]"
      ],
      "metadata": {
        "colab": {
          "base_uri": "https://localhost:8080/",
          "height": 424
        },
        "id": "rOo_XvfIDD_V",
        "outputId": "4af38ba7-2730-4b50-9b3a-cdac602c8e6b"
      },
      "execution_count": null,
      "outputs": [
        {
          "output_type": "execute_result",
          "data": {
            "text/plain": [
              "           gFx       gFy       gFz\n",
              "0     0.005015  0.027795  0.003135\n",
              "1     0.000139  0.012290  0.004496\n",
              "2     0.020331 -0.009187  0.019014\n",
              "3     0.014451 -0.009491  0.027716\n",
              "4    -0.000852 -0.011274  0.021560\n",
              "...        ...       ...       ...\n",
              "7142 -0.020434  0.018307  0.032267\n",
              "7143  0.006770  0.006677  0.062844\n",
              "7144  0.024725  0.017514  0.055823\n",
              "7145 -0.022234  0.012622  0.074642\n",
              "7146 -0.028274  0.004379  0.070044\n",
              "\n",
              "[7147 rows x 3 columns]"
            ],
            "text/html": [
              "\n",
              "  <div id=\"df-b727f78f-81be-42a3-92c5-3aa2a5b9c381\">\n",
              "    <div class=\"colab-df-container\">\n",
              "      <div>\n",
              "<style scoped>\n",
              "    .dataframe tbody tr th:only-of-type {\n",
              "        vertical-align: middle;\n",
              "    }\n",
              "\n",
              "    .dataframe tbody tr th {\n",
              "        vertical-align: top;\n",
              "    }\n",
              "\n",
              "    .dataframe thead th {\n",
              "        text-align: right;\n",
              "    }\n",
              "</style>\n",
              "<table border=\"1\" class=\"dataframe\">\n",
              "  <thead>\n",
              "    <tr style=\"text-align: right;\">\n",
              "      <th></th>\n",
              "      <th>gFx</th>\n",
              "      <th>gFy</th>\n",
              "      <th>gFz</th>\n",
              "    </tr>\n",
              "  </thead>\n",
              "  <tbody>\n",
              "    <tr>\n",
              "      <th>0</th>\n",
              "      <td>0.005015</td>\n",
              "      <td>0.027795</td>\n",
              "      <td>0.003135</td>\n",
              "    </tr>\n",
              "    <tr>\n",
              "      <th>1</th>\n",
              "      <td>0.000139</td>\n",
              "      <td>0.012290</td>\n",
              "      <td>0.004496</td>\n",
              "    </tr>\n",
              "    <tr>\n",
              "      <th>2</th>\n",
              "      <td>0.020331</td>\n",
              "      <td>-0.009187</td>\n",
              "      <td>0.019014</td>\n",
              "    </tr>\n",
              "    <tr>\n",
              "      <th>3</th>\n",
              "      <td>0.014451</td>\n",
              "      <td>-0.009491</td>\n",
              "      <td>0.027716</td>\n",
              "    </tr>\n",
              "    <tr>\n",
              "      <th>4</th>\n",
              "      <td>-0.000852</td>\n",
              "      <td>-0.011274</td>\n",
              "      <td>0.021560</td>\n",
              "    </tr>\n",
              "    <tr>\n",
              "      <th>...</th>\n",
              "      <td>...</td>\n",
              "      <td>...</td>\n",
              "      <td>...</td>\n",
              "    </tr>\n",
              "    <tr>\n",
              "      <th>7142</th>\n",
              "      <td>-0.020434</td>\n",
              "      <td>0.018307</td>\n",
              "      <td>0.032267</td>\n",
              "    </tr>\n",
              "    <tr>\n",
              "      <th>7143</th>\n",
              "      <td>0.006770</td>\n",
              "      <td>0.006677</td>\n",
              "      <td>0.062844</td>\n",
              "    </tr>\n",
              "    <tr>\n",
              "      <th>7144</th>\n",
              "      <td>0.024725</td>\n",
              "      <td>0.017514</td>\n",
              "      <td>0.055823</td>\n",
              "    </tr>\n",
              "    <tr>\n",
              "      <th>7145</th>\n",
              "      <td>-0.022234</td>\n",
              "      <td>0.012622</td>\n",
              "      <td>0.074642</td>\n",
              "    </tr>\n",
              "    <tr>\n",
              "      <th>7146</th>\n",
              "      <td>-0.028274</td>\n",
              "      <td>0.004379</td>\n",
              "      <td>0.070044</td>\n",
              "    </tr>\n",
              "  </tbody>\n",
              "</table>\n",
              "<p>7147 rows × 3 columns</p>\n",
              "</div>\n",
              "      <button class=\"colab-df-convert\" onclick=\"convertToInteractive('df-b727f78f-81be-42a3-92c5-3aa2a5b9c381')\"\n",
              "              title=\"Convert this dataframe to an interactive table.\"\n",
              "              style=\"display:none;\">\n",
              "        \n",
              "  <svg xmlns=\"http://www.w3.org/2000/svg\" height=\"24px\"viewBox=\"0 0 24 24\"\n",
              "       width=\"24px\">\n",
              "    <path d=\"M0 0h24v24H0V0z\" fill=\"none\"/>\n",
              "    <path d=\"M18.56 5.44l.94 2.06.94-2.06 2.06-.94-2.06-.94-.94-2.06-.94 2.06-2.06.94zm-11 1L8.5 8.5l.94-2.06 2.06-.94-2.06-.94L8.5 2.5l-.94 2.06-2.06.94zm10 10l.94 2.06.94-2.06 2.06-.94-2.06-.94-.94-2.06-.94 2.06-2.06.94z\"/><path d=\"M17.41 7.96l-1.37-1.37c-.4-.4-.92-.59-1.43-.59-.52 0-1.04.2-1.43.59L10.3 9.45l-7.72 7.72c-.78.78-.78 2.05 0 2.83L4 21.41c.39.39.9.59 1.41.59.51 0 1.02-.2 1.41-.59l7.78-7.78 2.81-2.81c.8-.78.8-2.07 0-2.86zM5.41 20L4 18.59l7.72-7.72 1.47 1.35L5.41 20z\"/>\n",
              "  </svg>\n",
              "      </button>\n",
              "      \n",
              "  <style>\n",
              "    .colab-df-container {\n",
              "      display:flex;\n",
              "      flex-wrap:wrap;\n",
              "      gap: 12px;\n",
              "    }\n",
              "\n",
              "    .colab-df-convert {\n",
              "      background-color: #E8F0FE;\n",
              "      border: none;\n",
              "      border-radius: 50%;\n",
              "      cursor: pointer;\n",
              "      display: none;\n",
              "      fill: #1967D2;\n",
              "      height: 32px;\n",
              "      padding: 0 0 0 0;\n",
              "      width: 32px;\n",
              "    }\n",
              "\n",
              "    .colab-df-convert:hover {\n",
              "      background-color: #E2EBFA;\n",
              "      box-shadow: 0px 1px 2px rgba(60, 64, 67, 0.3), 0px 1px 3px 1px rgba(60, 64, 67, 0.15);\n",
              "      fill: #174EA6;\n",
              "    }\n",
              "\n",
              "    [theme=dark] .colab-df-convert {\n",
              "      background-color: #3B4455;\n",
              "      fill: #D2E3FC;\n",
              "    }\n",
              "\n",
              "    [theme=dark] .colab-df-convert:hover {\n",
              "      background-color: #434B5C;\n",
              "      box-shadow: 0px 1px 3px 1px rgba(0, 0, 0, 0.15);\n",
              "      filter: drop-shadow(0px 1px 2px rgba(0, 0, 0, 0.3));\n",
              "      fill: #FFFFFF;\n",
              "    }\n",
              "  </style>\n",
              "\n",
              "      <script>\n",
              "        const buttonEl =\n",
              "          document.querySelector('#df-b727f78f-81be-42a3-92c5-3aa2a5b9c381 button.colab-df-convert');\n",
              "        buttonEl.style.display =\n",
              "          google.colab.kernel.accessAllowed ? 'block' : 'none';\n",
              "\n",
              "        async function convertToInteractive(key) {\n",
              "          const element = document.querySelector('#df-b727f78f-81be-42a3-92c5-3aa2a5b9c381');\n",
              "          const dataTable =\n",
              "            await google.colab.kernel.invokeFunction('convertToInteractive',\n",
              "                                                     [key], {});\n",
              "          if (!dataTable) return;\n",
              "\n",
              "          const docLinkHtml = 'Like what you see? Visit the ' +\n",
              "            '<a target=\"_blank\" href=https://colab.research.google.com/notebooks/data_table.ipynb>data table notebook</a>'\n",
              "            + ' to learn more about interactive tables.';\n",
              "          element.innerHTML = '';\n",
              "          dataTable['output_type'] = 'display_data';\n",
              "          await google.colab.output.renderOutput(dataTable, element);\n",
              "          const docLink = document.createElement('div');\n",
              "          docLink.innerHTML = docLinkHtml;\n",
              "          element.appendChild(docLink);\n",
              "        }\n",
              "      </script>\n",
              "    </div>\n",
              "  </div>\n",
              "  "
            ]
          },
          "metadata": {},
          "execution_count": 6
        }
      ]
    },
    {
      "cell_type": "code",
      "source": [
        "plt.plot(range(len(df_jog[28][2400::])),df_jog[28]['gFz'][2400::],color = 'red',label = 'gFx')\n",
        "plt.ylim(-3,3)"
      ],
      "metadata": {
        "colab": {
          "base_uri": "https://localhost:8080/",
          "height": 286
        },
        "id": "No3pwVIWDK62",
        "outputId": "846aba3e-5278-43f7-8da3-e3eb3c8cf0a1"
      },
      "execution_count": null,
      "outputs": [
        {
          "output_type": "execute_result",
          "data": {
            "text/plain": [
              "(-3.0, 3.0)"
            ]
          },
          "metadata": {},
          "execution_count": 7
        },
        {
          "output_type": "display_data",
          "data": {
            "text/plain": [
              "<Figure size 432x288 with 1 Axes>"
            ],
            "image/png": "[encoded data removed]"
          },
          "metadata": {
            "needs_background": "light"
          }
        }
      ]
    },
    {
      "cell_type": "code",
      "execution_count": null,
      "metadata": {
        "id": "8bdK10QD7avu"
      },
      "outputs": [],
      "source": [
        "#lets skip by 16(for 80-90 hz) and take 50 inputs, time<60 for walk and sit and time<50 for jog and start from the index 2400\n",
        "walkData = pd.read_csv('walk_g_1.csv')\n",
        "sitData = pd.read_csv('sit_g_1.csv')\n",
        "jogData = pd.read_csv('jog_g_1.csv')"
      ]
    },
    {
      "cell_type": "code",
      "execution_count": null,
      "metadata": {
        "colab": {
          "base_uri": "https://localhost:8080/",
          "height": 206
        },
        "id": "52OacpnV6rVZ",
        "outputId": "8663f3a8-7347-412f-c4c0-61bd909fb49d"
      },
      "outputs": [
        {
          "output_type": "execute_result",
          "data": {
            "text/plain": [
              "       time     gFx     gFy     gFz    TgF\n",
              "0  0.005010 -0.0765  0.3680  0.9311  1.004\n",
              "1  0.005380 -0.0685  0.3690  0.9218  0.995\n",
              "2  0.005604 -0.0702  0.3685  0.9280  1.001\n",
              "3  0.005975 -0.0749  0.3648  0.9280  1.000\n",
              "4  0.006187 -0.0886  0.3690  0.9413  1.015"
            ],
            "text/html": [
              "\n",
              "  <div id=\"df-12e96a57-849f-4ea1-8f89-d5274b3ae8a2\">\n",
              "    <div class=\"colab-df-container\">\n",
              "      <div>\n",
              "<style scoped>\n",
              "    .dataframe tbody tr th:only-of-type {\n",
              "        vertical-align: middle;\n",
              "    }\n",
              "\n",
              "    .dataframe tbody tr th {\n",
              "        vertical-align: top;\n",
              "    }\n",
              "\n",
              "    .dataframe thead th {\n",
              "        text-align: right;\n",
              "    }\n",
              "</style>\n",
              "<table border=\"1\" class=\"dataframe\">\n",
              "  <thead>\n",
              "    <tr style=\"text-align: right;\">\n",
              "      <th></th>\n",
              "      <th>time</th>\n",
              "      <th>gFx</th>\n",
              "      <th>gFy</th>\n",
              "      <th>gFz</th>\n",
              "      <th>TgF</th>\n",
              "    </tr>\n",
              "  </thead>\n",
              "  <tbody>\n",
              "    <tr>\n",
              "      <th>0</th>\n",
              "      <td>0.005010</td>\n",
              "      <td>-0.0765</td>\n",
              "      <td>0.3680</td>\n",
              "      <td>0.9311</td>\n",
              "      <td>1.004</td>\n",
              "    </tr>\n",
              "    <tr>\n",
              "      <th>1</th>\n",
              "      <td>0.005380</td>\n",
              "      <td>-0.0685</td>\n",
              "      <td>0.3690</td>\n",
              "      <td>0.9218</td>\n",
              "      <td>0.995</td>\n",
              "    </tr>\n",
              "    <tr>\n",
              "      <th>2</th>\n",
              "      <td>0.005604</td>\n",
              "      <td>-0.0702</td>\n",
              "      <td>0.3685</td>\n",
              "      <td>0.9280</td>\n",
              "      <td>1.001</td>\n",
              "    </tr>\n",
              "    <tr>\n",
              "      <th>3</th>\n",
              "      <td>0.005975</td>\n",
              "      <td>-0.0749</td>\n",
              "      <td>0.3648</td>\n",
              "      <td>0.9280</td>\n",
              "      <td>1.000</td>\n",
              "    </tr>\n",
              "    <tr>\n",
              "      <th>4</th>\n",
              "      <td>0.006187</td>\n",
              "      <td>-0.0886</td>\n",
              "      <td>0.3690</td>\n",
              "      <td>0.9413</td>\n",
              "      <td>1.015</td>\n",
              "    </tr>\n",
              "  </tbody>\n",
              "</table>\n",
              "</div>\n",
              "      <button class=\"colab-df-convert\" onclick=\"convertToInteractive('df-12e96a57-849f-4ea1-8f89-d5274b3ae8a2')\"\n",
              "              title=\"Convert this dataframe to an interactive table.\"\n",
              "              style=\"display:none;\">\n",
              "        \n",
              "  <svg xmlns=\"http://www.w3.org/2000/svg\" height=\"24px\"viewBox=\"0 0 24 24\"\n",
              "       width=\"24px\">\n",
              "    <path d=\"M0 0h24v24H0V0z\" fill=\"none\"/>\n",
              "    <path d=\"M18.56 5.44l.94 2.06.94-2.06 2.06-.94-2.06-.94-.94-2.06-.94 2.06-2.06.94zm-11 1L8.5 8.5l.94-2.06 2.06-.94-2.06-.94L8.5 2.5l-.94 2.06-2.06.94zm10 10l.94 2.06.94-2.06 2.06-.94-2.06-.94-.94-2.06-.94 2.06-2.06.94z\"/><path d=\"M17.41 7.96l-1.37-1.37c-.4-.4-.92-.59-1.43-.59-.52 0-1.04.2-1.43.59L10.3 9.45l-7.72 7.72c-.78.78-.78 2.05 0 2.83L4 21.41c.39.39.9.59 1.41.59.51 0 1.02-.2 1.41-.59l7.78-7.78 2.81-2.81c.8-.78.8-2.07 0-2.86zM5.41 20L4 18.59l7.72-7.72 1.47 1.35L5.41 20z\"/>\n",
              "  </svg>\n",
              "      </button>\n",
              "      \n",
              "  <style>\n",
              "    .colab-df-container {\n",
              "      display:flex;\n",
              "      flex-wrap:wrap;\n",
              "      gap: 12px;\n",
              "    }\n",
              "\n",
              "    .colab-df-convert {\n",
              "      background-color: #E8F0FE;\n",
              "      border: none;\n",
              "      border-radius: 50%;\n",
              "      cursor: pointer;\n",
              "      display: none;\n",
              "      fill: #1967D2;\n",
              "      height: 32px;\n",
              "      padding: 0 0 0 0;\n",
              "      width: 32px;\n",
              "    }\n",
              "\n",
              "    .colab-df-convert:hover {\n",
              "      background-color: #E2EBFA;\n",
              "      box-shadow: 0px 1px 2px rgba(60, 64, 67, 0.3), 0px 1px 3px 1px rgba(60, 64, 67, 0.15);\n",
              "      fill: #174EA6;\n",
              "    }\n",
              "\n",
              "    [theme=dark] .colab-df-convert {\n",
              "      background-color: #3B4455;\n",
              "      fill: #D2E3FC;\n",
              "    }\n",
              "\n",
              "    [theme=dark] .colab-df-convert:hover {\n",
              "      background-color: #434B5C;\n",
              "      box-shadow: 0px 1px 3px 1px rgba(0, 0, 0, 0.15);\n",
              "      filter: drop-shadow(0px 1px 2px rgba(0, 0, 0, 0.3));\n",
              "      fill: #FFFFFF;\n",
              "    }\n",
              "  </style>\n",
              "\n",
              "      <script>\n",
              "        const buttonEl =\n",
              "          document.querySelector('#df-12e96a57-849f-4ea1-8f89-d5274b3ae8a2 button.colab-df-convert');\n",
              "        buttonEl.style.display =\n",
              "          google.colab.kernel.accessAllowed ? 'block' : 'none';\n",
              "\n",
              "        async function convertToInteractive(key) {\n",
              "          const element = document.querySelector('#df-12e96a57-849f-4ea1-8f89-d5274b3ae8a2');\n",
              "          const dataTable =\n",
              "            await google.colab.kernel.invokeFunction('convertToInteractive',\n",
              "                                                     [key], {});\n",
              "          if (!dataTable) return;\n",
              "\n",
              "          const docLinkHtml = 'Like what you see? Visit the ' +\n",
              "            '<a target=\"_blank\" href=https://colab.research.google.com/notebooks/data_table.ipynb>data table notebook</a>'\n",
              "            + ' to learn more about interactive tables.';\n",
              "          element.innerHTML = '';\n",
              "          dataTable['output_type'] = 'display_data';\n",
              "          await google.colab.output.renderOutput(dataTable, element);\n",
              "          const docLink = document.createElement('div');\n",
              "          docLink.innerHTML = docLinkHtml;\n",
              "          element.appendChild(docLink);\n",
              "        }\n",
              "      </script>\n",
              "    </div>\n",
              "  </div>\n",
              "  "
            ]
          },
          "metadata": {},
          "execution_count": 9
        }
      ],
      "source": [
        "sitData.head()"
      ]
    },
    {
      "cell_type": "code",
      "execution_count": null,
      "metadata": {
        "colab": {
          "base_uri": "https://localhost:8080/",
          "height": 286
        },
        "id": "HGJsYGIhoGjE",
        "outputId": "bb887ede-1552-4601-9c5c-58c56b95249a"
      },
      "outputs": [
        {
          "output_type": "execute_result",
          "data": {
            "text/plain": [
              "(-3.0, 3.0)"
            ]
          },
          "metadata": {},
          "execution_count": 10
        },
        {
          "output_type": "display_data",
          "data": {
            "text/plain": [
              "<Figure size 432x288 with 1 Axes>"
            ],
            "image/png": "[encoded data removed]"
          },
          "metadata": {
            "needs_background": "light"
          }
        }
      ],
      "source": [
        "jogDataset = jogData.loc[2400:4800:16]\n",
        "jogDataset = jogDataset[70:70 + slice_len]\n",
        "plt.plot(jogDataset['time'],jogDataset['gFx'],color = 'red',label = 'gFx')\n",
        "plt.ylim(-3,3)"
      ]
    },
    {
      "cell_type": "code",
      "execution_count": null,
      "metadata": {
        "colab": {
          "base_uri": "https://localhost:8080/",
          "height": 286
        },
        "id": "5QHvzp2Uz_59",
        "outputId": "746fda90-9df1-44e4-ecaf-6e021a1b8fa6"
      },
      "outputs": [
        {
          "output_type": "execute_result",
          "data": {
            "text/plain": [
              "(-3.0, 3.0)"
            ]
          },
          "metadata": {},
          "execution_count": 11
        },
        {
          "output_type": "display_data",
          "data": {
            "text/plain": [
              "<Figure size 432x288 with 1 Axes>"
            ],
            "image/png": "[encoded data removed]"
          },
          "metadata": {
            "needs_background": "light"
          }
        }
      ],
      "source": [
        "walkDataset = walkData.loc[2400:4800:16]\n",
        "walkDataset = walkDataset[60:60 + slice_len]\n",
        "plt.plot(walkDataset['time'],walkDataset['gFx'],color = 'blue',label = 'gFx')\n",
        "plt.ylim(-3,3)"
      ]
    },
    {
      "cell_type": "code",
      "execution_count": null,
      "metadata": {
        "colab": {
          "base_uri": "https://localhost:8080/",
          "height": 286
        },
        "id": "1hMqakjq1fB-",
        "outputId": "cbb7b566-e820-4d55-af4d-6e1a2eeb1bb4"
      },
      "outputs": [
        {
          "output_type": "execute_result",
          "data": {
            "text/plain": [
              "(-3.0, 3.0)"
            ]
          },
          "metadata": {},
          "execution_count": 12
        },
        {
          "output_type": "display_data",
          "data": {
            "text/plain": [
              "<Figure size 432x288 with 1 Axes>"
            ],
            "image/png": "[encoded data removed]"
          },
          "metadata": {
            "needs_background": "light"
          }
        }
      ],
      "source": [
        "sitDataset = sitData.loc[2400:4800:16]\n",
        "sitDataset = sitDataset[60:60 + slice_len]\n",
        "plt.plot(sitDataset['time'],sitDataset['gFx'],color = 'green',label = 'gFx')\n",
        "plt.ylim(-3,3)"
      ]
    },
    {
      "cell_type": "code",
      "execution_count": null,
      "metadata": {
        "id": "82H5Gj_o46CE"
      },
      "outputs": [],
      "source": [
        "sitData = sitData[sitData['time']<60]\n",
        "walkData = walkData[walkData['time']<60]\n",
        "jogData = jogData[jogData['time']<50]\n",
        "\n",
        "sitData = sitData.loc[2400:]\n",
        "walkData = walkData.loc[2400:]\n",
        "jogData = jogData.loc[2400:]\n",
        "\n",
        "sitData = sitData.drop(['time','TgF'],axis = 1)\n",
        "walkData = walkData.drop(['time','TgF'],axis = 1)\n",
        "jogData = jogData.drop(['time','TgF'],axis = 1)"
      ]
    },
    {
      "cell_type": "code",
      "execution_count": null,
      "metadata": {
        "id": "Offb1Esy7fj8"
      },
      "outputs": [],
      "source": [
        "sitData.reset_index(inplace = True,drop = True)\n",
        "walkData.reset_index(inplace = True,drop = True)\n",
        "jogData.reset_index(inplace = True,drop = True)"
      ]
    },
    {
      "cell_type": "code",
      "source": [
        "print(len(sitData))\n",
        "print(len(walkData))\n",
        "print(len(jogData))"
      ],
      "metadata": {
        "colab": {
          "base_uri": "https://localhost:8080/"
        },
        "id": "6sttDjh-PrHL",
        "outputId": "87a0f469-3b7b-4e9c-93f8-eb8b53138f61"
      },
      "execution_count": null,
      "outputs": [
        {
          "output_type": "stream",
          "name": "stdout",
          "text": [
            "21576\n",
            "21443\n",
            "14835\n"
          ]
        }
      ]
    },
    {
      "cell_type": "code",
      "source": [
        "sitData = sitData.loc[:len(jogData) - 1]\n",
        "walkData = walkData.loc[:len(jogData) - 1]"
      ],
      "metadata": {
        "id": "3WpKlpEUxXCC"
      },
      "execution_count": null,
      "outputs": []
    },
    {
      "cell_type": "code",
      "source": [
        "print(len(sitData))\n",
        "print(len(walkData))\n",
        "print(len(jogData))\n"
      ],
      "metadata": {
        "colab": {
          "base_uri": "https://localhost:8080/"
        },
        "id": "bdiI0GisxwWs",
        "outputId": "69b46b59-b7f8-49e6-91c0-42f529b47437"
      },
      "execution_count": null,
      "outputs": [
        {
          "output_type": "stream",
          "name": "stdout",
          "text": [
            "14835\n",
            "14835\n",
            "14835\n"
          ]
        }
      ]
    },
    {
      "cell_type": "code",
      "execution_count": null,
      "metadata": {
        "id": "z0Idc-HC9lDb"
      },
      "outputs": [],
      "source": [
        "def preprocess(data,skip,doMean):\n",
        "  preP = []\n",
        "  for i in range(skip):\n",
        "    pi = data.loc[i::skip]\n",
        "    ni = len(pi)\n",
        "   \n",
        "    for j in range(ni - slice_len):\n",
        "      pij = pi[j:j+slice_len]\n",
        "      pij = pij.to_numpy() \n",
        "      if(doMean == 1):\n",
        "        pij = pij - pij.mean(axis = 0) #to remove effect of gravity, is just an approximation\n",
        "      mod = []\n",
        "      for p in pij:\n",
        "        mod.append(p[0]*p[0] + p[1]*p[1] + p[2]*p[2])\n",
        "      mod = np.array(mod)\n",
        "      preP.append(mod)\n",
        "\n",
        "    i+=slice_len\n",
        "\n",
        "  return preP"
      ]
    },
    {
      "cell_type": "code",
      "source": [
        "sitSet = preprocess(sitData,TO_SKIP,1)\n",
        "walkSet = preprocess(walkData,TO_SKIP,1)\n",
        "jogSet = preprocess(jogData,TO_SKIP,1)\n",
        "\n"
      ],
      "metadata": {
        "id": "ogGg1niCCa0Q"
      },
      "execution_count": null,
      "outputs": []
    },
    {
      "cell_type": "code",
      "source": [
        "sub_walkSet = []\n",
        "sub_jogSet = []\n",
        "sub_standSet = []\n",
        "sub_sitSet = []\n",
        "for i in df_walk:\n",
        "  sub_walkSet.append(preprocess(i,1,0))\n",
        "for i in df_jog:\n",
        "  sub_jogSet.append(preprocess(i,1,0))\n",
        "for i in df_stand:\n",
        "  sub_standSet.append(preprocess(i,1,0))\n",
        "for i in df_sit:\n",
        "  sub_sitSet.append(preprocess(i,1,0))"
      ],
      "metadata": {
        "id": "76lGBjn-5D-H"
      },
      "execution_count": null,
      "outputs": []
    },
    {
      "cell_type": "code",
      "source": [
        "len(jogSet[0])"
      ],
      "metadata": {
        "colab": {
          "base_uri": "https://localhost:8080/"
        },
        "id": "z7fJWQ_1gMEP",
        "outputId": "73d45fd3-a122-4be0-a554-c3036fe03632"
      },
      "execution_count": null,
      "outputs": [
        {
          "output_type": "execute_result",
          "data": {
            "text/plain": [
              "30"
            ]
          },
          "metadata": {},
          "execution_count": 21
        }
      ]
    },
    {
      "cell_type": "code",
      "source": [
        "x = []\n",
        "y = []\n",
        "x_2 = []\n",
        "y_2 = []\n",
        "x_3 = []\n",
        "y_3 = []\n",
        "\n",
        "for i in sitSet:\n",
        "  x_2.append(i.flatten())\n",
        "  y_2.append([1,0,0])\n",
        "  x.append(i.flatten())\n",
        "  y.append([1,0,0])\n",
        "for i in walkSet:\n",
        "  x_2.append(i.flatten())\n",
        "  y_2.append([0,1,0])\n",
        "  x.append(i.flatten())\n",
        "  y.append([0,1,0])\n",
        "for i in jogSet:\n",
        "  x_2.append(i.flatten())\n",
        "  y_2.append([0,0,1])\n",
        "  x.append(i.flatten())\n",
        "  y.append([0,0,1])\n",
        "\n",
        "for i in sub_walkSet:\n",
        "  for j in i:\n",
        "    x_3.append(j.flatten())\n",
        "    y_3.append([0,1,0])\n",
        "   \n",
        "for i in sub_jogSet:\n",
        "  for j in i:\n",
        "    x_3.append(j.flatten())\n",
        "    y_3.append([0,0,1])\n",
        "   \n",
        "for i in sub_standSet:\n",
        "  for j in i:\n",
        "    x_3.append(j.flatten())\n",
        "    y_3.append([1,0,0])\n",
        "    \n",
        "for i in sub_sitSet:\n",
        "  for j in i:\n",
        "    x_3.append(j.flatten())\n",
        "    y_3.append([1,0,0])\n",
        "    \n",
        "y = np.array(y)\n",
        "y_2 = np.array(y_2)\n",
        "y_3 = np.array(y_3)\n",
        "x = np.array(x,dtype = np.float32)\n",
        "x_2 = np.array(x_2,dtype = np.float32)\n",
        "x_3 = np.array(x_3,dtype = np.float32)"
      ],
      "metadata": {
        "id": "gQPvnQG0G9GE"
      },
      "execution_count": null,
      "outputs": []
    },
    {
      "cell_type": "code",
      "source": [
        "x_train,x_valid,y_train,y_valid = train_test_split(x,y,test_size = 0.33)"
      ],
      "metadata": {
        "id": "HF1pJzPkH2UH"
      },
      "execution_count": null,
      "outputs": []
    },
    {
      "cell_type": "markdown",
      "source": [
        "#Model Training\n",
        "Making a basic dense layer network with 30 inputs\n",
        "\n"
      ],
      "metadata": {
        "id": "B-jceUJMGFt-"
      }
    },
    {
      "cell_type": "code",
      "source": [
        "from tensorflow import keras\n",
        "from keras import Sequential\n",
        "from keras.layers import Dense,Dropout\n",
        "import tensorflow as tf"
      ],
      "metadata": {
        "id": "C1Y6r3peGFCh"
      },
      "execution_count": null,
      "outputs": []
    },
    {
      "cell_type": "code",
      "source": [
        "model = Sequential()\n",
        "model.add(Dense(input_length/2,input_dim = input_length ,activation = 'relu'))\n",
        "model.add((Dense(10,activation = 'softmax')))\n",
        "model.add((Dense(3,activation = 'softmax')))\n",
        "model.compile(loss = 'categorical_crossentropy',optimizer = 'adam',metrics = ['accuracy'])\n",
        "model.summary()"
      ],
      "metadata": {
        "colab": {
          "base_uri": "https://localhost:8080/"
        },
        "id": "8KwqkrMTI0Gz",
        "outputId": "d32faf55-6162-4026-b667-3ab3237360b6"
      },
      "execution_count": null,
      "outputs": [
        {
          "output_type": "stream",
          "name": "stdout",
          "text": [
            "Model: \"sequential\"\n",
            "_________________________________________________________________\n",
            " Layer (type)                Output Shape              Param #   \n",
            "=================================================================\n",
            " dense (Dense)               (None, 15)                465       \n",
            "                                                                 \n",
            " dense_1 (Dense)             (None, 10)                160       \n",
            "                                                                 \n",
            " dense_2 (Dense)             (None, 3)                 33        \n",
            "                                                                 \n",
            "=================================================================\n",
            "Total params: 658\n",
            "Trainable params: 658\n",
            "Non-trainable params: 0\n",
            "_________________________________________________________________\n"
          ]
        }
      ]
    },
    {
      "cell_type": "code",
      "source": [
        "model.fit(x_train,y_train,batch_size = 128,epochs = 30,verbose = 1,validation_data = (x_valid,y_valid))"
      ],
      "metadata": {
        "colab": {
          "base_uri": "https://localhost:8080/"
        },
        "id": "C7g3jue8LsPX",
        "outputId": "3be0916a-a324-4276-fd6a-785db187e54b"
      },
      "execution_count": null,
      "outputs": [
        {
          "output_type": "stream",
          "name": "stdout",
          "text": [
            "Epoch 1/30\n",
            "226/226 [==============================] - 4s 5ms/step - loss: 0.9602 - accuracy: 0.6140 - val_loss: 0.8571 - val_accuracy: 0.6760\n",
            "Epoch 2/30\n",
            "226/226 [==============================] - 1s 5ms/step - loss: 0.7770 - accuracy: 0.6978 - val_loss: 0.7055 - val_accuracy: 0.7173\n",
            "Epoch 3/30\n",
            "226/226 [==============================] - 1s 5ms/step - loss: 0.6391 - accuracy: 0.7357 - val_loss: 0.5811 - val_accuracy: 0.7527\n",
            "Epoch 4/30\n",
            "226/226 [==============================] - 1s 5ms/step - loss: 0.5388 - accuracy: 0.7745 - val_loss: 0.5027 - val_accuracy: 0.7876\n",
            "Epoch 5/30\n",
            "226/226 [==============================] - 1s 7ms/step - loss: 0.4680 - accuracy: 0.8121 - val_loss: 0.4281 - val_accuracy: 0.8435\n",
            "Epoch 6/30\n",
            "226/226 [==============================] - 2s 7ms/step - loss: 0.3669 - accuracy: 0.8858 - val_loss: 0.3010 - val_accuracy: 0.9218\n",
            "Epoch 7/30\n",
            "226/226 [==============================] - 1s 5ms/step - loss: 0.2693 - accuracy: 0.9302 - val_loss: 0.2423 - val_accuracy: 0.9368\n",
            "Epoch 8/30\n",
            "226/226 [==============================] - 1s 3ms/step - loss: 0.2273 - accuracy: 0.9383 - val_loss: 0.2134 - val_accuracy: 0.9417\n",
            "Epoch 9/30\n",
            "226/226 [==============================] - 1s 3ms/step - loss: 0.2054 - accuracy: 0.9419 - val_loss: 0.1990 - val_accuracy: 0.9425\n",
            "Epoch 10/30\n",
            "226/226 [==============================] - 1s 4ms/step - loss: 0.1931 - accuracy: 0.9434 - val_loss: 0.1894 - val_accuracy: 0.9441\n",
            "Epoch 11/30\n",
            "226/226 [==============================] - 1s 4ms/step - loss: 0.1842 - accuracy: 0.9447 - val_loss: 0.1817 - val_accuracy: 0.9455\n",
            "Epoch 12/30\n",
            "226/226 [==============================] - 1s 3ms/step - loss: 0.1783 - accuracy: 0.9455 - val_loss: 0.1781 - val_accuracy: 0.9456\n",
            "Epoch 13/30\n",
            "226/226 [==============================] - 1s 3ms/step - loss: 0.1735 - accuracy: 0.9461 - val_loss: 0.1718 - val_accuracy: 0.9472\n",
            "Epoch 14/30\n",
            "226/226 [==============================] - 1s 3ms/step - loss: 0.1689 - accuracy: 0.9477 - val_loss: 0.1695 - val_accuracy: 0.9472\n",
            "Epoch 15/30\n",
            "226/226 [==============================] - 1s 3ms/step - loss: 0.1657 - accuracy: 0.9475 - val_loss: 0.1640 - val_accuracy: 0.9476\n",
            "Epoch 16/30\n",
            "226/226 [==============================] - 1s 3ms/step - loss: 0.1617 - accuracy: 0.9492 - val_loss: 0.1608 - val_accuracy: 0.9496\n",
            "Epoch 17/30\n",
            "226/226 [==============================] - 1s 4ms/step - loss: 0.1575 - accuracy: 0.9502 - val_loss: 0.1571 - val_accuracy: 0.9488\n",
            "Epoch 18/30\n",
            "226/226 [==============================] - 1s 3ms/step - loss: 0.1531 - accuracy: 0.9504 - val_loss: 0.1520 - val_accuracy: 0.9514\n",
            "Epoch 19/30\n",
            "226/226 [==============================] - 1s 4ms/step - loss: 0.1495 - accuracy: 0.9519 - val_loss: 0.1515 - val_accuracy: 0.9499\n",
            "Epoch 20/30\n",
            "226/226 [==============================] - 1s 3ms/step - loss: 0.1460 - accuracy: 0.9526 - val_loss: 0.1443 - val_accuracy: 0.9543\n",
            "Epoch 21/30\n",
            "226/226 [==============================] - 1s 3ms/step - loss: 0.1428 - accuracy: 0.9538 - val_loss: 0.1437 - val_accuracy: 0.9536\n",
            "Epoch 22/30\n",
            "226/226 [==============================] - 1s 4ms/step - loss: 0.1406 - accuracy: 0.9536 - val_loss: 0.1393 - val_accuracy: 0.9551\n",
            "Epoch 23/30\n",
            "226/226 [==============================] - 1s 4ms/step - loss: 0.1373 - accuracy: 0.9553 - val_loss: 0.1386 - val_accuracy: 0.9557\n",
            "Epoch 24/30\n",
            "226/226 [==============================] - 1s 3ms/step - loss: 0.1357 - accuracy: 0.9560 - val_loss: 0.1340 - val_accuracy: 0.9575\n",
            "Epoch 25/30\n",
            "226/226 [==============================] - 1s 3ms/step - loss: 0.1333 - accuracy: 0.9565 - val_loss: 0.1320 - val_accuracy: 0.9575\n",
            "Epoch 26/30\n",
            "226/226 [==============================] - 1s 3ms/step - loss: 0.1312 - accuracy: 0.9572 - val_loss: 0.1313 - val_accuracy: 0.9574\n",
            "Epoch 27/30\n",
            "226/226 [==============================] - 1s 3ms/step - loss: 0.1292 - accuracy: 0.9586 - val_loss: 0.1286 - val_accuracy: 0.9590\n",
            "Epoch 28/30\n",
            "226/226 [==============================] - 1s 4ms/step - loss: 0.1284 - accuracy: 0.9579 - val_loss: 0.1296 - val_accuracy: 0.9579\n",
            "Epoch 29/30\n",
            "226/226 [==============================] - 1s 3ms/step - loss: 0.1261 - accuracy: 0.9594 - val_loss: 0.1266 - val_accuracy: 0.9592\n",
            "Epoch 30/30\n",
            "226/226 [==============================] - 1s 5ms/step - loss: 0.1247 - accuracy: 0.9598 - val_loss: 0.1234 - val_accuracy: 0.9608\n"
          ]
        },
        {
          "output_type": "execute_result",
          "data": {
            "text/plain": [
              "<keras.callbacks.History at 0x7f652010a8d0>"
            ]
          },
          "metadata": {},
          "execution_count": 26
        }
      ]
    },
    {
      "cell_type": "code",
      "source": [
        "model.evaluate(x_3[y_3[:,0]==1],y_3[y_3[:,0] == 1],batch_size = 128) #accuracy for sitting/standing"
      ],
      "metadata": {
        "colab": {
          "base_uri": "https://localhost:8080/"
        },
        "id": "yk41NX6u9F9D",
        "outputId": "f1f65ce5-1919-4f37-89a2-630116d9adef"
      },
      "execution_count": null,
      "outputs": [
        {
          "output_type": "stream",
          "name": "stdout",
          "text": [
            "5019/5019 [==============================] - 11s 2ms/step - loss: 0.0039 - accuracy: 0.9998\n"
          ]
        },
        {
          "output_type": "execute_result",
          "data": {
            "text/plain": [
              "[0.003891822649165988, 0.9998365044593811]"
            ]
          },
          "metadata": {},
          "execution_count": 28
        }
      ]
    },
    {
      "cell_type": "code",
      "source": [
        "model.evaluate(x_3[y_3[:,1]==1],y_3[y_3[:,1] == 1],batch_size = 128) #accuracy for walking"
      ],
      "metadata": {
        "colab": {
          "base_uri": "https://localhost:8080/"
        },
        "id": "boJLCEbJIAn3",
        "outputId": "3dc4531c-b979-4af5-c3e5-6050e5e59189"
      },
      "execution_count": null,
      "outputs": [
        {
          "output_type": "stream",
          "name": "stdout",
          "text": [
            "2673/2673 [==============================] - 7s 3ms/step - loss: 0.8435 - accuracy: 0.7116\n"
          ]
        },
        {
          "output_type": "execute_result",
          "data": {
            "text/plain": [
              "[0.843504011631012, 0.7115582227706909]"
            ]
          },
          "metadata": {},
          "execution_count": 29
        }
      ]
    },
    {
      "cell_type": "code",
      "source": [
        "model.evaluate(x_3[y_3[:,2]==1],y_3[y_3[:,2] == 1],batch_size = 128) #accuracy for jogging"
      ],
      "metadata": {
        "colab": {
          "base_uri": "https://localhost:8080/"
        },
        "id": "H2Mep7f4IH_m",
        "outputId": "0728e5a1-1748-49e9-92f4-26d257decea2"
      },
      "execution_count": null,
      "outputs": [
        {
          "output_type": "stream",
          "name": "stdout",
          "text": [
            "1038/1038 [==============================] - 3s 2ms/step - loss: 0.4695 - accuracy: 0.8649\n"
          ]
        },
        {
          "output_type": "execute_result",
          "data": {
            "text/plain": [
              "[0.46946457028388977, 0.8649004697799683]"
            ]
          },
          "metadata": {},
          "execution_count": 30
        }
      ]
    },
    {
      "cell_type": "code",
      "source": [
        "model.evaluate(x_3,y_3,batch_size = 128)"
      ],
      "metadata": {
        "colab": {
          "base_uri": "https://localhost:8080/"
        },
        "id": "v2cwUwBm-HF0",
        "outputId": "4e576eb3-439b-4caf-ec8c-e58eac992447"
      },
      "execution_count": null,
      "outputs": [
        {
          "output_type": "stream",
          "name": "stdout",
          "text": [
            "8729/8729 [==============================] - 20s 2ms/step - loss: 0.3163 - accuracy: 0.8955\n"
          ]
        },
        {
          "output_type": "execute_result",
          "data": {
            "text/plain": [
              "[0.31633421778678894, 0.8955205678939819]"
            ]
          },
          "metadata": {},
          "execution_count": 44
        }
      ]
    },
    {
      "cell_type": "markdown",
      "source": [
        "#Converting model to lite version using tflite\n",
        "Quantization of model weights and activations"
      ],
      "metadata": {
        "id": "ZF0q_iis-9wR"
      }
    },
    {
      "cell_type": "code",
      "source": [
        "model.save('/content/class_model')"
      ],
      "metadata": {
        "colab": {
          "base_uri": "https://localhost:8080/"
        },
        "id": "_v_BZDmI_Kso",
        "outputId": "9fe0948a-804b-4013-a052-8a10653e8ce0"
      },
      "execution_count": null,
      "outputs": [
        {
          "output_type": "stream",
          "name": "stdout",
          "text": [
            "INFO:tensorflow:Assets written to: /content/class_model/assets\n"
          ]
        }
      ]
    },
    {
      "cell_type": "code",
      "source": [
        "converter = tf.lite.TFLiteConverter.from_saved_model('/content/class_model')\n",
        "converter.optimizations = [tf.lite.Optimize.DEFAULT]\n",
        "converter.target_spec.supported_ops = [tf.lite.OpsSet.TFLITE_BUILTINS_INT8]\n",
        "converter.inference_input_type = tf.float32\n",
        "converter.inference_output_type = tf.float32"
      ],
      "metadata": {
        "id": "aobtKM2gAcUo"
      },
      "execution_count": null,
      "outputs": []
    },
    {
      "cell_type": "code",
      "source": [
        "def representative_dataset_generation():\n",
        "  for i in range(len(x)):\n",
        "    yield[x[i]]"
      ],
      "metadata": {
        "id": "fdeeDOaatb7F"
      },
      "execution_count": null,
      "outputs": []
    },
    {
      "cell_type": "code",
      "source": [
        "converter.representative_dataset = representative_dataset_generation"
      ],
      "metadata": {
        "id": "AORYvbsItxHP"
      },
      "execution_count": null,
      "outputs": []
    },
    {
      "cell_type": "code",
      "source": [
        "tflite_model = converter.convert()\n",
        "with open('model.tflite','wb') as f:\n",
        "  f.write(tflite_model)"
      ],
      "metadata": {
        "colab": {
          "base_uri": "https://localhost:8080/"
        },
        "id": "0VKCbz5rDuCk",
        "outputId": "7aa85a4b-4cc3-4bc7-901d-945224ab683f"
      },
      "execution_count": null,
      "outputs": [
        {
          "output_type": "stream",
          "name": "stderr",
          "text": [
            "WARNING:absl:Buffer deduplication procedure will be skipped when flatbuffer library is not properly loaded\n"
          ]
        }
      ]
    },
    {
      "cell_type": "code",
      "source": [
        "print(os.path.getsize('/content/model.tflite') , 'bytes') #size of tflite model after quantization"
      ],
      "metadata": {
        "colab": {
          "base_uri": "https://localhost:8080/"
        },
        "id": "gOPg5F50CiH8",
        "outputId": "254b7b36-b4c2-4796-8f97-e84413a1f8cf"
      },
      "execution_count": null,
      "outputs": [
        {
          "output_type": "stream",
          "name": "stdout",
          "text": [
            "3416 bytes\n"
          ]
        }
      ]
    },
    {
      "cell_type": "code",
      "source": [
        "interpreter = tf.lite.Interpreter(model_content = tflite_model)\n",
        "interpreter.allocate_tensors()"
      ],
      "metadata": {
        "id": "z1rZHnd8Gan6"
      },
      "execution_count": null,
      "outputs": []
    },
    {
      "cell_type": "code",
      "source": [
        "x_train[56]"
      ],
      "metadata": {
        "colab": {
          "base_uri": "https://localhost:8080/"
        },
        "id": "M-5sXCPb1k-h",
        "outputId": "3816d446-80f0-4080-b8e8-bfbb204b895b"
      },
      "execution_count": null,
      "outputs": [
        {
          "output_type": "execute_result",
          "data": {
            "text/plain": [
              "array([0.31616092, 0.5535308 , 0.59748787, 2.7711027 , 4.834693  ,\n",
              "       0.44253156, 1.4300671 , 0.02172472, 0.6731541 , 0.3649465 ,\n",
              "       0.16997524, 0.24352925, 0.15473479, 0.14144287, 0.01443442,\n",
              "       0.04901589, 0.02278976, 0.12886208, 0.3529795 , 0.34816116,\n",
              "       0.4343319 , 0.931339  , 1.1033431 , 2.4166462 , 0.38901806,\n",
              "       0.57571965, 0.17291535, 0.3780619 , 0.57538193, 0.90963703],\n",
              "      dtype=float32)"
            ]
          },
          "metadata": {},
          "execution_count": 488
        }
      ]
    },
    {
      "cell_type": "code",
      "source": [
        "#checking accuracy after quantization\n",
        "correct = 0\n",
        "num = len(x)\n",
        "for i in range(num):\n",
        "  input = interpreter.get_input_details()\n",
        "  output = interpreter.get_output_details()\n",
        "  input_e = x[i]\n",
        "  input_e = np.array(input_e)\n",
        "  input_e = np.reshape(input_e,input[0]['shape'])\n",
        "  input_e = input_e.astype('float32')\n",
        "  interpreter.set_tensor(input[0]['index'],input_e)\n",
        "  interpreter.invoke()\n",
        "  output = interpreter.get_tensor(output[0]['index']) \n",
        "  if(np.argmax(output) == np.argmax(y[i])):\n",
        "    correct+=1\n",
        "\n",
        "print('accuracy:',correct/num)"
      ],
      "metadata": {
        "colab": {
          "base_uri": "https://localhost:8080/"
        },
        "id": "z_9LTgWkzPY_",
        "outputId": "56e6276a-d59d-4f9b-e76c-e46b6250937d"
      },
      "execution_count": null,
      "outputs": [
        {
          "output_type": "stream",
          "name": "stdout",
          "text": [
            "accuracy: 0.955067920585162\n"
          ]
        }
      ]
    },
    {
      "cell_type": "code",
      "source": [
        "!apt-get update && apt-get -qq install xxd"
      ],
      "metadata": {
        "colab": {
          "base_uri": "https://localhost:8080/"
        },
        "id": "ujM_6RgKRIVV",
        "outputId": "0cc4c9cf-3676-447f-ceb6-50f57d5f0c21"
      },
      "execution_count": null,
      "outputs": [
        {
          "output_type": "stream",
          "name": "stdout",
          "text": [
            "\r0% [Working]\r            \rHit:1 https://developer.download.nvidia.com/compute/cuda/repos/ubuntu1804/x86_64  InRelease\n",
            "Get:2 https://cloud.r-project.org/bin/linux/ubuntu bionic-cran40/ InRelease [3,626 B]\n",
            "Hit:3 http://ppa.launchpad.net/c2d4u.team/c2d4u4.0+/ubuntu bionic InRelease\n",
            "Ign:4 https://developer.download.nvidia.com/compute/machine-learning/repos/ubuntu1804/x86_64  InRelease\n",
            "Hit:5 https://developer.download.nvidia.com/compute/machine-learning/repos/ubuntu1804/x86_64  Release\n",
            "Get:6 http://security.ubuntu.com/ubuntu bionic-security InRelease [88.7 kB]\n",
            "Hit:7 http://archive.ubuntu.com/ubuntu bionic InRelease\n",
            "Hit:9 http://ppa.launchpad.net/cran/libgit2/ubuntu bionic InRelease\n",
            "Get:10 http://archive.ubuntu.com/ubuntu bionic-updates InRelease [88.7 kB]\n",
            "Hit:11 http://ppa.launchpad.net/deadsnakes/ppa/ubuntu bionic InRelease\n",
            "Get:12 http://archive.ubuntu.com/ubuntu bionic-backports InRelease [74.6 kB]\n",
            "Hit:13 http://ppa.launchpad.net/graphics-drivers/ppa/ubuntu bionic InRelease\n",
            "Get:14 http://security.ubuntu.com/ubuntu bionic-security/universe amd64 Packages [1,526 kB]\n",
            "Get:15 http://archive.ubuntu.com/ubuntu bionic-updates/universe amd64 Packages [2,302 kB]\n",
            "Get:16 http://archive.ubuntu.com/ubuntu bionic-updates/main amd64 Packages [3,329 kB]\n",
            "Get:17 http://security.ubuntu.com/ubuntu bionic-security/restricted amd64 Packages [1,057 kB]\n",
            "Get:18 http://security.ubuntu.com/ubuntu bionic-security/main amd64 Packages [2,897 kB]\n",
            "Fetched 11.4 MB in 3s (3,405 kB/s)\n",
            "Reading package lists... Done\n",
            "Selecting previously unselected package xxd.\n",
            "(Reading database ... 155653 files and directories currently installed.)\n",
            "Preparing to unpack .../xxd_2%3a8.0.1453-1ubuntu1.8_amd64.deb ...\n",
            "Unpacking xxd (2:8.0.1453-1ubuntu1.8) ...\n",
            "Setting up xxd (2:8.0.1453-1ubuntu1.8) ...\n",
            "Processing triggers for man-db (2.8.3-2ubuntu0.1) ...\n"
          ]
        }
      ]
    },
    {
      "cell_type": "code",
      "source": [
        "!xxd -i model.tflite > helper.cpp"
      ],
      "metadata": {
        "id": "vB8bATPD_LW8"
      },
      "execution_count": null,
      "outputs": []
    },
    {
      "cell_type": "code",
      "source": [
        "!cat helper.cpp #final model which is implemented on microcontroller"
      ],
      "metadata": {
        "colab": {
          "base_uri": "https://localhost:8080/"
        },
        "id": "af0vPd_lIk1J",
        "outputId": "fedecb3e-d38c-49b0-9edf-ff2e9ed0fbf1"
      },
      "execution_count": null,
      "outputs": [
        {
          "output_type": "stream",
          "name": "stdout",
          "text": [
            "unsigned char model_tflite[] = {\n",
            "  0x1c, 0x00, 0x00, 0x00, 0x54, 0x46, 0x4c, 0x33, 0x14, 0x00, 0x20, 0x00,\n",
            "  0x04, 0x00, 0x08, 0x00, 0x0c, 0x00, 0x10, 0x00, 0x14, 0x00, 0x00, 0x00,\n",
            "  0x18, 0x00, 0x1c, 0x00, 0x14, 0x00, 0x00, 0x00, 0x03, 0x00, 0x00, 0x00,\n",
            "  0x18, 0x00, 0x00, 0x00, 0x28, 0x00, 0x00, 0x00, 0x40, 0x01, 0x00, 0x00,\n",
            "  0x28, 0x00, 0x00, 0x00, 0xe8, 0x00, 0x00, 0x00, 0x64, 0x00, 0x00, 0x00,\n",
            "  0x04, 0x00, 0x00, 0x00, 0x9c, 0x06, 0x00, 0x00, 0xb4, 0x05, 0x00, 0x00,\n",
            "  0x04, 0x04, 0x00, 0x00, 0xfc, 0x01, 0x00, 0x00, 0x01, 0x00, 0x00, 0x00,\n",
            "  0x3c, 0x01, 0x00, 0x00, 0x10, 0x00, 0x00, 0x00, 0xf8, 0x0c, 0x00, 0x00,\n",
            "  0xf4, 0x0c, 0x00, 0x00, 0x34, 0x0a, 0x00, 0x00, 0x90, 0x09, 0x00, 0x00,\n",
            "  0x84, 0x08, 0x00, 0x00, 0xf8, 0x07, 0x00, 0x00, 0x64, 0x07, 0x00, 0x00,\n",
            "  0xf4, 0x06, 0x00, 0x00, 0xd8, 0x0c, 0x00, 0x00, 0xd4, 0x0c, 0x00, 0x00,\n",
            "  0xd0, 0x0c, 0x00, 0x00, 0xcc, 0x0c, 0x00, 0x00, 0xc8, 0x0c, 0x00, 0x00,\n",
            "  0xc4, 0x0c, 0x00, 0x00, 0xc0, 0x0c, 0x00, 0x00, 0xb8, 0x00, 0x00, 0x00,\n",
            "  0x01, 0x00, 0x00, 0x00, 0x10, 0x00, 0x00, 0x00, 0x00, 0x00, 0x0a, 0x00,\n",
            "  0x10, 0x00, 0x0c, 0x00, 0x08, 0x00, 0x04, 0x00, 0x0a, 0x00, 0x00, 0x00,\n",
            "  0x0c, 0x00, 0x00, 0x00, 0x1c, 0x00, 0x00, 0x00, 0x20, 0x00, 0x00, 0x00,\n",
            "  0x0f, 0x00, 0x00, 0x00, 0x73, 0x65, 0x72, 0x76, 0x69, 0x6e, 0x67, 0x5f,\n",
            "  0x64, 0x65, 0x66, 0x61, 0x75, 0x6c, 0x74, 0x00, 0x01, 0x00, 0x00, 0x00,\n",
            "  0x14, 0x00, 0x00, 0x00, 0x01, 0x00, 0x00, 0x00, 0x24, 0x00, 0x00, 0x00,\n",
            "  0x08, 0x00, 0x0c, 0x00, 0x08, 0x00, 0x04, 0x00, 0x08, 0x00, 0x00, 0x00,\n",
            "  0x0d, 0x00, 0x00, 0x00, 0x04, 0x00, 0x00, 0x00, 0x07, 0x00, 0x00, 0x00,\n",
            "  0x64, 0x65, 0x6e, 0x73, 0x65, 0x5f, 0x32, 0x00, 0x72, 0xf6, 0xff, 0xff,\n",
            "  0x04, 0x00, 0x00, 0x00, 0x0b, 0x00, 0x00, 0x00, 0x64, 0x65, 0x6e, 0x73,\n",
            "  0x65, 0x5f, 0x69, 0x6e, 0x70, 0x75, 0x74, 0x00, 0x01, 0x00, 0x00, 0x00,\n",
            "  0x0c, 0x00, 0x00, 0x00, 0x08, 0x00, 0x0c, 0x00, 0x04, 0x00, 0x08, 0x00,\n",
            "  0x08, 0x00, 0x00, 0x00, 0x08, 0x00, 0x00, 0x00, 0x0f, 0x00, 0x00, 0x00,\n",
            "  0x13, 0x00, 0x00, 0x00, 0x6d, 0x69, 0x6e, 0x5f, 0x72, 0x75, 0x6e, 0x74,\n",
            "  0x69, 0x6d, 0x65, 0x5f, 0x76, 0x65, 0x72, 0x73, 0x69, 0x6f, 0x6e, 0x00,\n",
            "  0xbe, 0xf6, 0xff, 0xff, 0x04, 0x00, 0x00, 0x00, 0x10, 0x00, 0x00, 0x00,\n",
            "  0x31, 0x2e, 0x31, 0x34, 0x2e, 0x30, 0x00, 0x00, 0x00, 0x00, 0x00, 0x00,\n",
            "  0x00, 0x00, 0x00, 0x00, 0x0f, 0x00, 0x00, 0x00, 0x4d, 0x4c, 0x49, 0x52,\n",
            "  0x20, 0x43, 0x6f, 0x6e, 0x76, 0x65, 0x72, 0x74, 0x65, 0x64, 0x2e, 0x00,\n",
            "  0x00, 0x00, 0x0e, 0x00, 0x18, 0x00, 0x04, 0x00, 0x08, 0x00, 0x0c, 0x00,\n",
            "  0x10, 0x00, 0x14, 0x00, 0x0e, 0x00, 0x00, 0x00, 0x14, 0x00, 0x00, 0x00,\n",
            "  0x4c, 0x00, 0x00, 0x00, 0x50, 0x00, 0x00, 0x00, 0x54, 0x00, 0x00, 0x00,\n",
            "  0x70, 0x00, 0x00, 0x00, 0x0e, 0x00, 0x00, 0x00, 0x4c, 0x0b, 0x00, 0x00,\n",
            "  0xc4, 0x0a, 0x00, 0x00, 0x8c, 0x08, 0x00, 0x00, 0xdc, 0x07, 0x00, 0x00,\n",
            "  0xe0, 0x06, 0x00, 0x00, 0x44, 0x06, 0x00, 0x00, 0xc0, 0x05, 0x00, 0x00,\n",
            "  0x38, 0x05, 0x00, 0x00, 0x3c, 0x04, 0x00, 0x00, 0x48, 0x03, 0x00, 0x00,\n",
            "  0x88, 0x02, 0x00, 0x00, 0xb0, 0x01, 0x00, 0x00, 0x00, 0x01, 0x00, 0x00,\n",
            "  0x78, 0x00, 0x00, 0x00, 0x01, 0x00, 0x00, 0x00, 0x00, 0x00, 0x00, 0x00,\n",
            "  0x01, 0x00, 0x00, 0x00, 0x0d, 0x00, 0x00, 0x00, 0x07, 0x00, 0x00, 0x00,\n",
            "  0xbc, 0x04, 0x00, 0x00, 0xbc, 0x03, 0x00, 0x00, 0xe4, 0x02, 0x00, 0x00,\n",
            "  0x18, 0x02, 0x00, 0x00, 0x4c, 0x01, 0x00, 0x00, 0xa0, 0x00, 0x00, 0x00,\n",
            "  0x18, 0x00, 0x00, 0x00, 0x04, 0x00, 0x00, 0x00, 0x6d, 0x61, 0x69, 0x6e,\n",
            "  0x00, 0x00, 0x0a, 0x00, 0x10, 0x00, 0x04, 0x00, 0x08, 0x00, 0x0c, 0x00,\n",
            "  0x0a, 0x00, 0x00, 0x00, 0x03, 0x00, 0x00, 0x00, 0x10, 0x00, 0x00, 0x00,\n",
            "  0x04, 0x00, 0x00, 0x00, 0x01, 0x00, 0x00, 0x00, 0x0d, 0x00, 0x00, 0x00,\n",
            "  0x01, 0x00, 0x00, 0x00, 0x0c, 0x00, 0x00, 0x00, 0x78, 0xfb, 0xff, 0xff,\n",
            "  0x06, 0x00, 0x00, 0x00, 0x00, 0x00, 0x00, 0x06, 0x02, 0x00, 0x00, 0x00,\n",
            "  0x74, 0xf5, 0xff, 0xff, 0x14, 0x00, 0x00, 0x00, 0x0e, 0x00, 0x00, 0x00,\n",
            "  0x18, 0x00, 0x00, 0x00, 0x40, 0x00, 0x00, 0x00, 0x30, 0x00, 0x00, 0x00,\n",
            "  0x02, 0x00, 0x00, 0x00, 0x01, 0x00, 0x00, 0x00, 0x03, 0x00, 0x00, 0x00,\n",
            "  0x19, 0x00, 0x00, 0x00, 0x53, 0x74, 0x61, 0x74, 0x65, 0x66, 0x75, 0x6c,\n",
            "  0x50, 0x61, 0x72, 0x74, 0x69, 0x74, 0x69, 0x6f, 0x6e, 0x65, 0x64, 0x43,\n",
            "  0x61, 0x6c, 0x6c, 0x3a, 0x30, 0x00, 0x00, 0x00, 0x02, 0x00, 0x00, 0x00,\n",
            "  0xff, 0xff, 0xff, 0xff, 0x03, 0x00, 0x00, 0x00, 0x58, 0xf5, 0xff, 0xff,\n",
            "  0xd6, 0xfd, 0xff, 0xff, 0x00, 0x00, 0x00, 0x09, 0x02, 0x00, 0x00, 0x00,\n",
            "  0x1c, 0x00, 0x00, 0x00, 0x10, 0x00, 0x00, 0x00, 0x04, 0x00, 0x00, 0x00,\n",
            "  0x32, 0xf8, 0xff, 0xff, 0x00, 0x00, 0x80, 0x3f, 0x01, 0x00, 0x00, 0x00,\n",
            "  0x0c, 0x00, 0x00, 0x00, 0x01, 0x00, 0x00, 0x00, 0x0b, 0x00, 0x00, 0x00,\n",
            "  0xf0, 0xfb, 0xff, 0xff, 0x00, 0x00, 0x00, 0x09, 0x14, 0x00, 0x00, 0x00,\n",
            "  0x0d, 0x00, 0x00, 0x00, 0x18, 0x00, 0x00, 0x00, 0x40, 0x00, 0x00, 0x00,\n",
            "  0x30, 0x00, 0x00, 0x00, 0x02, 0x00, 0x00, 0x00, 0x01, 0x00, 0x00, 0x00,\n",
            "  0x03, 0x00, 0x00, 0x00, 0x1a, 0x00, 0x00, 0x00, 0x53, 0x74, 0x61, 0x74,\n",
            "  0x65, 0x66, 0x75, 0x6c, 0x50, 0x61, 0x72, 0x74, 0x69, 0x74, 0x69, 0x6f,\n",
            "  0x6e, 0x65, 0x64, 0x43, 0x61, 0x6c, 0x6c, 0x3a, 0x30, 0x31, 0x00, 0x00,\n",
            "  0x02, 0x00, 0x00, 0x00, 0xff, 0xff, 0xff, 0xff, 0x03, 0x00, 0x00, 0x00,\n",
            "  0x7c, 0xf6, 0xff, 0xff, 0x08, 0x00, 0x00, 0x00, 0x0c, 0x00, 0x00, 0x00,\n",
            "  0x01, 0x00, 0x00, 0x00, 0x00, 0x00, 0x80, 0x3b, 0x01, 0x00, 0x00, 0x00,\n",
            "  0x80, 0xff, 0xff, 0xff, 0xff, 0xff, 0xff, 0xff, 0x00, 0x00, 0x00, 0x00,\n",
            "  0x7e, 0xfe, 0xff, 0xff, 0x00, 0x00, 0x00, 0x08, 0x01, 0x00, 0x00, 0x00,\n",
            "  0x18, 0x00, 0x00, 0x00, 0x0c, 0x00, 0x00, 0x00, 0x04, 0x00, 0x00, 0x00,\n",
            "  0x1c, 0xf6, 0xff, 0xff, 0x01, 0x00, 0x00, 0x00, 0x0b, 0x00, 0x00, 0x00,\n",
            "  0x03, 0x00, 0x00, 0x00, 0x0a, 0x00, 0x00, 0x00, 0x05, 0x00, 0x00, 0x00,\n",
            "  0x06, 0x00, 0x00, 0x00, 0x9c, 0xfc, 0xff, 0xff, 0x00, 0x00, 0x00, 0x09,\n",
            "  0x14, 0x00, 0x00, 0x00, 0x0c, 0x00, 0x00, 0x00, 0x18, 0x00, 0x00, 0x00,\n",
            "  0x5c, 0x00, 0x00, 0x00, 0x4c, 0x00, 0x00, 0x00, 0x02, 0x00, 0x00, 0x00,\n",
            "  0x01, 0x00, 0x00, 0x00, 0x03, 0x00, 0x00, 0x00, 0x34, 0x00, 0x00, 0x00,\n",
            "  0x73, 0x65, 0x71, 0x75, 0x65, 0x6e, 0x74, 0x69, 0x61, 0x6c, 0x2f, 0x64,\n",
            "  0x65, 0x6e, 0x73, 0x65, 0x5f, 0x32, 0x2f, 0x4d, 0x61, 0x74, 0x4d, 0x75,\n",
            "  0x6c, 0x3b, 0x73, 0x65, 0x71, 0x75, 0x65, 0x6e, 0x74, 0x69, 0x61, 0x6c,\n",
            "  0x2f, 0x64, 0x65, 0x6e, 0x73, 0x65, 0x5f, 0x32, 0x2f, 0x42, 0x69, 0x61,\n",
            "  0x73, 0x41, 0x64, 0x64, 0x00, 0x00, 0x00, 0x00, 0x02, 0x00, 0x00, 0x00,\n",
            "  0xff, 0xff, 0xff, 0xff, 0x03, 0x00, 0x00, 0x00, 0x44, 0xf7, 0xff, 0xff,\n",
            "  0x08, 0x00, 0x00, 0x00, 0x0c, 0x00, 0x00, 0x00, 0x01, 0x00, 0x00, 0x00,\n",
            "  0x99, 0x8d, 0xee, 0x3c, 0x01, 0x00, 0x00, 0x00, 0x19, 0x00, 0x00, 0x00,\n",
            "  0x00, 0x00, 0x00, 0x00, 0x00, 0x00, 0x00, 0x00, 0x46, 0xff, 0xff, 0xff,\n",
            "  0x00, 0x00, 0x00, 0x09, 0x02, 0x00, 0x00, 0x00, 0x1c, 0x00, 0x00, 0x00,\n",
            "  0x10, 0x00, 0x00, 0x00, 0x04, 0x00, 0x00, 0x00, 0xa2, 0xf9, 0xff, 0xff,\n",
            "  0x00, 0x00, 0x80, 0x3f, 0x01, 0x00, 0x00, 0x00, 0x0a, 0x00, 0x00, 0x00,\n",
            "  0x01, 0x00, 0x00, 0x00, 0x09, 0x00, 0x00, 0x00, 0x7c, 0xfd, 0xff, 0xff,\n",
            "  0x19, 0x00, 0x00, 0x00, 0x00, 0x00, 0x00, 0x19, 0x02, 0x00, 0x00, 0x00,\n",
            "  0x70, 0xfd, 0xff, 0xff, 0x00, 0x00, 0x00, 0x09, 0x14, 0x00, 0x00, 0x00,\n",
            "  0x0b, 0x00, 0x00, 0x00, 0x18, 0x00, 0x00, 0x00, 0x40, 0x00, 0x00, 0x00,\n",
            "  0x30, 0x00, 0x00, 0x00, 0x02, 0x00, 0x00, 0x00, 0x01, 0x00, 0x00, 0x00,\n",
            "  0x0a, 0x00, 0x00, 0x00, 0x1a, 0x00, 0x00, 0x00, 0x73, 0x65, 0x71, 0x75,\n",
            "  0x65, 0x6e, 0x74, 0x69, 0x61, 0x6c, 0x2f, 0x64, 0x65, 0x6e, 0x73, 0x65,\n",
            "  0x5f, 0x31, 0x2f, 0x53, 0x6f, 0x66, 0x74, 0x6d, 0x61, 0x78, 0x00, 0x00,\n",
            "  0x02, 0x00, 0x00, 0x00, 0xff, 0xff, 0xff, 0xff, 0x0a, 0x00, 0x00, 0x00,\n",
            "  0xfc, 0xf7, 0xff, 0xff, 0x08, 0x00, 0x00, 0x00, 0x0c, 0x00, 0x00, 0x00,\n",
            "  0x01, 0x00, 0x00, 0x00, 0x00, 0x00, 0x80, 0x3b, 0x01, 0x00, 0x00, 0x00,\n",
            "  0x80, 0xff, 0xff, 0xff, 0xff, 0xff, 0xff, 0xff, 0x00, 0x00, 0x00, 0x00,\n",
            "  0x00, 0x00, 0x0e, 0x00, 0x18, 0x00, 0x08, 0x00, 0x0c, 0x00, 0x10, 0x00,\n",
            "  0x07, 0x00, 0x14, 0x00, 0x0e, 0x00, 0x00, 0x00, 0x00, 0x00, 0x00, 0x08,\n",
            "  0x01, 0x00, 0x00, 0x00, 0x18, 0x00, 0x00, 0x00, 0x0c, 0x00, 0x00, 0x00,\n",
            "  0x04, 0x00, 0x00, 0x00, 0xac, 0xf7, 0xff, 0xff, 0x01, 0x00, 0x00, 0x00,\n",
            "  0x09, 0x00, 0x00, 0x00, 0x03, 0x00, 0x00, 0x00, 0x08, 0x00, 0x00, 0x00,\n",
            "  0x03, 0x00, 0x00, 0x00, 0x04, 0x00, 0x00, 0x00, 0x2c, 0xfe, 0xff, 0xff,\n",
            "  0x00, 0x00, 0x00, 0x09, 0x14, 0x00, 0x00, 0x00, 0x0a, 0x00, 0x00, 0x00,\n",
            "  0x18, 0x00, 0x00, 0x00, 0x5c, 0x00, 0x00, 0x00, 0x4c, 0x00, 0x00, 0x00,\n",
            "  0x02, 0x00, 0x00, 0x00, 0x01, 0x00, 0x00, 0x00, 0x0a, 0x00, 0x00, 0x00,\n",
            "  0x34, 0x00, 0x00, 0x00, 0x73, 0x65, 0x71, 0x75, 0x65, 0x6e, 0x74, 0x69,\n",
            "  0x61, 0x6c, 0x2f, 0x64, 0x65, 0x6e, 0x73, 0x65, 0x5f, 0x31, 0x2f, 0x4d,\n",
            "  0x61, 0x74, 0x4d, 0x75, 0x6c, 0x3b, 0x73, 0x65, 0x71, 0x75, 0x65, 0x6e,\n",
            "  0x74, 0x69, 0x61, 0x6c, 0x2f, 0x64, 0x65, 0x6e, 0x73, 0x65, 0x5f, 0x31,\n",
            "  0x2f, 0x42, 0x69, 0x61, 0x73, 0x41, 0x64, 0x64, 0x00, 0x00, 0x00, 0x00,\n",
            "  0x02, 0x00, 0x00, 0x00, 0xff, 0xff, 0xff, 0xff, 0x0a, 0x00, 0x00, 0x00,\n",
            "  0xd4, 0xf8, 0xff, 0xff, 0x08, 0x00, 0x00, 0x00, 0x0c, 0x00, 0x00, 0x00,\n",
            "  0x01, 0x00, 0x00, 0x00, 0x51, 0x5e, 0x78, 0x3f, 0x01, 0x00, 0x00, 0x00,\n",
            "  0x2a, 0x00, 0x00, 0x00, 0x00, 0x00, 0x00, 0x00, 0x00, 0x00, 0x0e, 0x00,\n",
            "  0x1a, 0x00, 0x08, 0x00, 0x0c, 0x00, 0x10, 0x00, 0x07, 0x00, 0x14, 0x00,\n",
            "  0x0e, 0x00, 0x00, 0x00, 0x00, 0x00, 0x00, 0x08, 0x01, 0x00, 0x00, 0x00,\n",
            "  0x24, 0x00, 0x00, 0x00, 0x18, 0x00, 0x00, 0x00, 0x0c, 0x00, 0x00, 0x00,\n",
            "  0x00, 0x00, 0x06, 0x00, 0x08, 0x00, 0x07, 0x00, 0x06, 0x00, 0x00, 0x00,\n",
            "  0x00, 0x00, 0x00, 0x01, 0x01, 0x00, 0x00, 0x00, 0x08, 0x00, 0x00, 0x00,\n",
            "  0x03, 0x00, 0x00, 0x00, 0x07, 0x00, 0x00, 0x00, 0x01, 0x00, 0x00, 0x00,\n",
            "  0x02, 0x00, 0x00, 0x00, 0x28, 0xff, 0xff, 0xff, 0x09, 0x00, 0x00, 0x00,\n",
            "  0x00, 0x00, 0x00, 0x09, 0x04, 0x00, 0x00, 0x00, 0x1c, 0xff, 0xff, 0xff,\n",
            "  0x00, 0x00, 0x00, 0x09, 0x14, 0x00, 0x00, 0x00, 0x09, 0x00, 0x00, 0x00,\n",
            "  0x18, 0x00, 0x00, 0x00, 0x6c, 0x00, 0x00, 0x00, 0x5c, 0x00, 0x00, 0x00,\n",
            "  0x02, 0x00, 0x00, 0x00, 0x01, 0x00, 0x00, 0x00, 0x0f, 0x00, 0x00, 0x00,\n",
            "  0x46, 0x00, 0x00, 0x00, 0x73, 0x65, 0x71, 0x75, 0x65, 0x6e, 0x74, 0x69,\n",
            "  0x61, 0x6c, 0x2f, 0x64, 0x65, 0x6e, 0x73, 0x65, 0x2f, 0x4d, 0x61, 0x74,\n",
            "  0x4d, 0x75, 0x6c, 0x3b, 0x73, 0x65, 0x71, 0x75, 0x65, 0x6e, 0x74, 0x69,\n",
            "  0x61, 0x6c, 0x2f, 0x64, 0x65, 0x6e, 0x73, 0x65, 0x2f, 0x52, 0x65, 0x6c,\n",
            "  0x75, 0x3b, 0x73, 0x65, 0x71, 0x75, 0x65, 0x6e, 0x74, 0x69, 0x61, 0x6c,\n",
            "  0x2f, 0x64, 0x65, 0x6e, 0x73, 0x65, 0x2f, 0x42, 0x69, 0x61, 0x73, 0x41,\n",
            "  0x64, 0x64, 0x00, 0x00, 0x02, 0x00, 0x00, 0x00, 0xff, 0xff, 0xff, 0xff,\n",
            "  0x0f, 0x00, 0x00, 0x00, 0xd4, 0xf9, 0xff, 0xff, 0x08, 0x00, 0x00, 0x00,\n",
            "  0x0c, 0x00, 0x00, 0x00, 0x01, 0x00, 0x00, 0x00, 0x06, 0xe9, 0x72, 0x3e,\n",
            "  0x01, 0x00, 0x00, 0x00, 0x80, 0xff, 0xff, 0xff, 0xff, 0xff, 0xff, 0xff,\n",
            "  0x00, 0x00, 0x0a, 0x00, 0x0c, 0x00, 0x00, 0x00, 0x04, 0x00, 0x08, 0x00,\n",
            "  0x0a, 0x00, 0x00, 0x00, 0x10, 0x00, 0x00, 0x00, 0x04, 0x00, 0x00, 0x00,\n",
            "  0x01, 0x00, 0x00, 0x00, 0x07, 0x00, 0x00, 0x00, 0x01, 0x00, 0x00, 0x00,\n",
            "  0x00, 0x00, 0x00, 0x00, 0x0c, 0x00, 0x10, 0x00, 0x0b, 0x00, 0x00, 0x00,\n",
            "  0x0c, 0x00, 0x04, 0x00, 0x0c, 0x00, 0x00, 0x00, 0x72, 0x00, 0x00, 0x00,\n",
            "  0x00, 0x00, 0x00, 0x72, 0x01, 0x00, 0x00, 0x00, 0x14, 0x00, 0x1c, 0x00,\n",
            "  0x08, 0x00, 0x07, 0x00, 0x0c, 0x00, 0x10, 0x00, 0x14, 0x00, 0x00, 0x00,\n",
            "  0x00, 0x00, 0x18, 0x00, 0x14, 0x00, 0x00, 0x00, 0x00, 0x00, 0x00, 0x09,\n",
            "  0x14, 0x00, 0x00, 0x00, 0x08, 0x00, 0x00, 0x00, 0x18, 0x00, 0x00, 0x00,\n",
            "  0x34, 0x00, 0x00, 0x00, 0x24, 0x00, 0x00, 0x00, 0x02, 0x00, 0x00, 0x00,\n",
            "  0x01, 0x00, 0x00, 0x00, 0x1e, 0x00, 0x00, 0x00, 0x0c, 0x00, 0x00, 0x00,\n",
            "  0x74, 0x66, 0x6c, 0x2e, 0x71, 0x75, 0x61, 0x6e, 0x74, 0x69, 0x7a, 0x65,\n",
            "  0x00, 0x00, 0x00, 0x00, 0x02, 0x00, 0x00, 0x00, 0xff, 0xff, 0xff, 0xff,\n",
            "  0x1e, 0x00, 0x00, 0x00, 0x94, 0xfa, 0xff, 0xff, 0x08, 0x00, 0x00, 0x00,\n",
            "  0x0c, 0x00, 0x00, 0x00, 0x01, 0x00, 0x00, 0x00, 0x58, 0xa2, 0x8e, 0x3e,\n",
            "  0x01, 0x00, 0x00, 0x00, 0x80, 0xff, 0xff, 0xff, 0xff, 0xff, 0xff, 0xff,\n",
            "  0x00, 0x00, 0x00, 0x00, 0xda, 0xfc, 0xff, 0xff, 0x04, 0x00, 0x00, 0x00,\n",
            "  0x0c, 0x00, 0x00, 0x00, 0x35, 0xe8, 0xff, 0xff, 0x9c, 0xf6, 0xff, 0xff,\n",
            "  0x3f, 0x0e, 0x00, 0x00, 0x1e, 0xfb, 0xff, 0xff, 0x00, 0x00, 0x00, 0x02,\n",
            "  0x10, 0x00, 0x00, 0x00, 0x07, 0x00, 0x00, 0x00, 0x10, 0x00, 0x00, 0x00,\n",
            "  0x20, 0x00, 0x00, 0x00, 0x01, 0x00, 0x00, 0x00, 0x03, 0x00, 0x00, 0x00,\n",
            "  0x0c, 0x00, 0x00, 0x00, 0x64, 0x65, 0x6e, 0x73, 0x65, 0x5f, 0x32, 0x2f,\n",
            "  0x62, 0x69, 0x61, 0x73, 0x00, 0x00, 0x00, 0x00, 0x04, 0xfb, 0xff, 0xff,\n",
            "  0x08, 0x00, 0x00, 0x00, 0x0c, 0x00, 0x00, 0x00, 0x01, 0x00, 0x00, 0x00,\n",
            "  0xf9, 0xe6, 0x05, 0x39, 0x01, 0x00, 0x00, 0x00, 0x00, 0x00, 0x00, 0x00,\n",
            "  0x00, 0x00, 0x00, 0x00, 0x46, 0xfd, 0xff, 0xff, 0x04, 0x00, 0x00, 0x00,\n",
            "  0x1e, 0x00, 0x00, 0x00, 0x1b, 0x0a, 0xb3, 0x12, 0x13, 0xfb, 0x8f, 0x07,\n",
            "  0x16, 0x6e, 0xf1, 0xf3, 0xf2, 0xf9, 0xe8, 0xfa, 0x64, 0xe8, 0xe8, 0x9d,\n",
            "  0x07, 0x0d, 0x4c, 0xe7, 0xf4, 0xef, 0xcd, 0xf7, 0xf1, 0x81, 0x00, 0x00,\n",
            "  0x9e, 0xfb, 0xff, 0xff, 0x00, 0x00, 0x00, 0x09, 0x10, 0x00, 0x00, 0x00,\n",
            "  0x06, 0x00, 0x00, 0x00, 0x14, 0x00, 0x00, 0x00, 0x30, 0x00, 0x00, 0x00,\n",
            "  0x02, 0x00, 0x00, 0x00, 0x03, 0x00, 0x00, 0x00, 0x0a, 0x00, 0x00, 0x00,\n",
            "  0x19, 0x00, 0x00, 0x00, 0x73, 0x65, 0x71, 0x75, 0x65, 0x6e, 0x74, 0x69,\n",
            "  0x61, 0x6c, 0x2f, 0x64, 0x65, 0x6e, 0x73, 0x65, 0x5f, 0x32, 0x2f, 0x4d,\n",
            "  0x61, 0x74, 0x4d, 0x75, 0x6c, 0x00, 0x00, 0x00, 0x94, 0xfb, 0xff, 0xff,\n",
            "  0x08, 0x00, 0x00, 0x00, 0x0c, 0x00, 0x00, 0x00, 0x01, 0x00, 0x00, 0x00,\n",
            "  0xf9, 0xe6, 0x05, 0x3d, 0x01, 0x00, 0x00, 0x00, 0x00, 0x00, 0x00, 0x00,\n",
            "  0x00, 0x00, 0x00, 0x00, 0xd6, 0xfd, 0xff, 0xff, 0x04, 0x00, 0x00, 0x00,\n",
            "  0x28, 0x00, 0x00, 0x00, 0x31, 0x00, 0x00, 0x00, 0xac, 0xff, 0xff, 0xff,\n",
            "  0x5b, 0xff, 0xff, 0xff, 0x06, 0x00, 0x00, 0x00, 0x50, 0x00, 0x00, 0x00,\n",
            "  0x7c, 0xff, 0xff, 0xff, 0xb1, 0xff, 0xff, 0xff, 0x67, 0xff, 0xff, 0xff,\n",
            "  0x5f, 0x00, 0x00, 0x00, 0x0f, 0x01, 0x00, 0x00, 0x36, 0xfc, 0xff, 0xff,\n",
            "  0x00, 0x00, 0x00, 0x02, 0x10, 0x00, 0x00, 0x00, 0x05, 0x00, 0x00, 0x00,\n",
            "  0x10, 0x00, 0x00, 0x00, 0x20, 0x00, 0x00, 0x00, 0x01, 0x00, 0x00, 0x00,\n",
            "  0x0a, 0x00, 0x00, 0x00, 0x0c, 0x00, 0x00, 0x00, 0x64, 0x65, 0x6e, 0x73,\n",
            "  0x65, 0x5f, 0x31, 0x2f, 0x62, 0x69, 0x61, 0x73, 0x00, 0x00, 0x00, 0x00,\n",
            "  0x1c, 0xfc, 0xff, 0xff, 0x08, 0x00, 0x00, 0x00, 0x0c, 0x00, 0x00, 0x00,\n",
            "  0x01, 0x00, 0x00, 0x00, 0x17, 0xca, 0x49, 0x3b, 0x01, 0x00, 0x00, 0x00,\n",
            "  0x00, 0x00, 0x00, 0x00, 0x00, 0x00, 0x00, 0x00, 0x5e, 0xfe, 0xff, 0xff,\n",
            "  0x04, 0x00, 0x00, 0x00, 0x96, 0x00, 0x00, 0x00, 0xfc, 0xfa, 0xfb, 0xf8,\n",
            "  0xdf, 0xcb, 0xbe, 0xde, 0xcb, 0x07, 0xb3, 0xdd, 0xdd, 0xdc, 0xdc, 0xe9,\n",
            "  0xaf, 0x28, 0xa7, 0x06, 0xfe, 0xcf, 0x9d, 0x29, 0x11, 0x29, 0xfc, 0x02,\n",
            "  0x1e, 0x08, 0xe1, 0xf8, 0x2a, 0xf3, 0x34, 0x0b, 0xe7, 0x92, 0x29, 0x35,\n",
            "  0xd3, 0x12, 0xea, 0x32, 0x18, 0x11, 0x01, 0xe9, 0xb2, 0x0f, 0xfc, 0xc7,\n",
            "  0xe5, 0x10, 0xfd, 0xba, 0xe3, 0x02, 0x13, 0xe2, 0x00, 0xe5, 0xf1, 0xe8,\n",
            "  0xf4, 0xe5, 0xbc, 0x17, 0xee, 0xe9, 0xbc, 0xf6, 0xe2, 0x1b, 0xfa, 0xe1,\n",
            "  0xe6, 0xfe, 0x18, 0x1a, 0xd0, 0xd2, 0xd0, 0xf0, 0xe8, 0xc0, 0x07, 0xbf,\n",
            "  0xe7, 0xe2, 0xa3, 0xd1, 0xeb, 0x36, 0x05, 0x1c, 0x3e, 0x28, 0x24, 0x0b,\n",
            "  0x49, 0x1d, 0xb1, 0xd7, 0x2c, 0xf6, 0x05, 0xd8, 0xe4, 0x12, 0x04, 0xf2,\n",
            "  0x07, 0xf3, 0xff, 0xfb, 0x05, 0x01, 0x1c, 0xde, 0x14, 0x12, 0x19, 0xc4,\n",
            "  0xc9, 0xf2, 0xdf, 0xe5, 0xdc, 0xf8, 0x96, 0xf1, 0x0c, 0xd4, 0xca, 0x77,\n",
            "  0x72, 0xc4, 0x3d, 0xd5, 0xd4, 0x7f, 0x56, 0xa6, 0xfa, 0x62, 0xc9, 0x54,\n",
            "  0xd3, 0xb0, 0x00, 0x00, 0x2e, 0xfd, 0xff, 0xff, 0x00, 0x00, 0x00, 0x09,\n",
            "  0x10, 0x00, 0x00, 0x00, 0x04, 0x00, 0x00, 0x00, 0x14, 0x00, 0x00, 0x00,\n",
            "  0x30, 0x00, 0x00, 0x00, 0x02, 0x00, 0x00, 0x00, 0x0a, 0x00, 0x00, 0x00,\n",
            "  0x0f, 0x00, 0x00, 0x00, 0x19, 0x00, 0x00, 0x00, 0x73, 0x65, 0x71, 0x75,\n",
            "  0x65, 0x6e, 0x74, 0x69, 0x61, 0x6c, 0x2f, 0x64, 0x65, 0x6e, 0x73, 0x65,\n",
            "  0x5f, 0x31, 0x2f, 0x4d, 0x61, 0x74, 0x4d, 0x75, 0x6c, 0x00, 0x00, 0x00,\n",
            "  0x24, 0xfd, 0xff, 0xff, 0x08, 0x00, 0x00, 0x00, 0x0c, 0x00, 0x00, 0x00,\n",
            "  0x01, 0x00, 0x00, 0x00, 0xcd, 0xa9, 0x54, 0x3c, 0x01, 0x00, 0x00, 0x00,\n",
            "  0x00, 0x00, 0x00, 0x00, 0x00, 0x00, 0x00, 0x00, 0x66, 0xff, 0xff, 0xff,\n",
            "  0x04, 0x00, 0x00, 0x00, 0x3c, 0x00, 0x00, 0x00, 0x68, 0x01, 0x00, 0x00,\n",
            "  0x75, 0x01, 0x00, 0x00, 0x70, 0xff, 0xff, 0xff, 0x9c, 0x00, 0x00, 0x00,\n",
            "  0x6b, 0xff, 0xff, 0xff, 0x08, 0x00, 0x00, 0x00, 0xd6, 0x00, 0x00, 0x00,\n",
            "  0xdf, 0x00, 0x00, 0x00, 0x25, 0x00, 0x00, 0x00, 0x8b, 0xff, 0xff, 0xff,\n",
            "  0x2d, 0x01, 0x00, 0x00, 0xa2, 0xff, 0xff, 0xff, 0x68, 0x01, 0x00, 0x00,\n",
            "  0x13, 0xff, 0xff, 0xff, 0xe9, 0xff, 0xff, 0xff, 0xda, 0xfd, 0xff, 0xff,\n",
            "  0x00, 0x00, 0x00, 0x02, 0x10, 0x00, 0x00, 0x00, 0x03, 0x00, 0x00, 0x00,\n",
            "  0x10, 0x00, 0x00, 0x00, 0x1c, 0x00, 0x00, 0x00, 0x01, 0x00, 0x00, 0x00,\n",
            "  0x0f, 0x00, 0x00, 0x00, 0x0a, 0x00, 0x00, 0x00, 0x64, 0x65, 0x6e, 0x73,\n",
            "  0x65, 0x2f, 0x62, 0x69, 0x61, 0x73, 0x00, 0x00, 0xbc, 0xfd, 0xff, 0xff,\n",
            "  0x08, 0x00, 0x00, 0x00, 0x0c, 0x00, 0x00, 0x00, 0x01, 0x00, 0x00, 0x00,\n",
            "  0x87, 0x1c, 0x3c, 0x3b, 0x01, 0x00, 0x00, 0x00, 0x00, 0x00, 0x00, 0x00,\n",
            "  0x00, 0x00, 0x00, 0x00, 0x00, 0x00, 0x06, 0x00, 0x08, 0x00, 0x04, 0x00,\n",
            "  0x06, 0x00, 0x00, 0x00, 0x04, 0x00, 0x00, 0x00, 0xc2, 0x01, 0x00, 0x00,\n",
            "  0x07, 0xd7, 0xda, 0xcf, 0x03, 0xdf, 0xfe, 0xfa, 0xe8, 0x08, 0xd3, 0xd0,\n",
            "  0xd7, 0xdd, 0x07, 0xe2, 0x07, 0xf9, 0x01, 0x08, 0xcf, 0xdf, 0xec, 0xd2,\n",
            "  0x06, 0xe4, 0x01, 0xf7, 0xff, 0xee, 0x04, 0xd5, 0xf0, 0xe4, 0xe0, 0xe7,\n",
            "  0xe4, 0xdc, 0xf6, 0x07, 0xe9, 0xfa, 0xe4, 0x0a, 0xd6, 0xfc, 0xd8, 0xf8,\n",
            "  0xf8, 0xed, 0x05, 0xf2, 0xfd, 0xd7, 0xfe, 0xbd, 0xf8, 0xe8, 0xfc, 0x04,\n",
            "  0x02, 0x0c, 0x00, 0x26, 0xfd, 0x08, 0x0b, 0x0f, 0x18, 0x23, 0x04, 0xfe,\n",
            "  0x00, 0xf7, 0x1d, 0x2b, 0x17, 0x18, 0x17, 0x1f, 0x25, 0x23, 0xfc, 0x00,\n",
            "  0x0c, 0x0e, 0x10, 0xf6, 0xfc, 0x01, 0x22, 0x2f, 0x1b, 0x10, 0xec, 0xf0,\n",
            "  0xd6, 0xdb, 0xd6, 0xbc, 0xf4, 0xf3, 0x03, 0x26, 0x33, 0x3e, 0x33, 0x3e,\n",
            "  0x15, 0xe7, 0xdf, 0xc7, 0xd0, 0xd5, 0xf5, 0xda, 0x09, 0x0e, 0x11, 0x14,\n",
            "  0x11, 0xd0, 0x14, 0xef, 0x2c, 0x28, 0x09, 0x02, 0x00, 0x0d, 0x12, 0x10,\n",
            "  0xbf, 0xfa, 0x0e, 0x10, 0x12, 0x35, 0x34, 0x1c, 0x01, 0x1e, 0x08, 0xf5,\n",
            "  0x26, 0x0b, 0xf4, 0x1a, 0x03, 0x0b, 0x1b, 0xf5, 0xfc, 0x04, 0x13, 0xfc,\n",
            "  0x23, 0xf2, 0x08, 0x1f, 0x23, 0x25, 0x11, 0xf0, 0x1f, 0x10, 0xfc, 0xeb,\n",
            "  0xe9, 0xe7, 0x00, 0x11, 0x20, 0x11, 0x2e, 0x23, 0x21, 0x05, 0xfb, 0x0a,\n",
            "  0xe5, 0xef, 0xf2, 0xe8, 0xec, 0x12, 0x13, 0x30, 0x4f, 0x3a, 0x1b, 0x23,\n",
            "  0x24, 0x18, 0x13, 0x07, 0xea, 0xf0, 0xc3, 0xb0, 0xcf, 0xf2, 0xf9, 0xe4,\n",
            "  0xf4, 0xf4, 0xe7, 0xef, 0xfb, 0x05, 0xdc, 0xca, 0xd0, 0xd3, 0xe4, 0xfe,\n",
            "  0xfc, 0xfa, 0x07, 0x16, 0x15, 0xfb, 0xfa, 0x16, 0x05, 0x11, 0x2e, 0x36,\n",
            "  0x2a, 0x1d, 0x15, 0x17, 0x10, 0xf3, 0xdc, 0xca, 0x96, 0x81, 0xa3, 0xd9,\n",
            "  0x1b, 0x21, 0x0f, 0x0d, 0x11, 0x23, 0x07, 0x02, 0x17, 0x0d, 0x18, 0x11,\n",
            "  0xfa, 0x11, 0xfb, 0x08, 0x2c, 0x1f, 0x04, 0x0d, 0x31, 0x35, 0xf5, 0x2c,\n",
            "  0x19, 0x03, 0xf5, 0x02, 0xf6, 0x1d, 0xf4, 0xfe, 0x0c, 0x0c, 0x34, 0x15,\n",
            "  0xfb, 0x24, 0x26, 0x1b, 0xfd, 0x08, 0x24, 0x23, 0x14, 0x00, 0x11, 0x36,\n",
            "  0x26, 0x1d, 0x08, 0x03, 0x27, 0x0c, 0xf3, 0x1c, 0x09, 0xfc, 0x04, 0x02,\n",
            "  0xfb, 0xfb, 0x0d, 0x07, 0x19, 0x1c, 0x18, 0x08, 0xe4, 0xd8, 0xb5, 0xc1,\n",
            "  0xcd, 0xe4, 0xf6, 0xeb, 0xf8, 0x2b, 0x2d, 0x1f, 0x19, 0x32, 0x33, 0x15,\n",
            "  0x1b, 0x0c, 0xec, 0xfa, 0xff, 0x0d, 0x3c, 0xf6, 0x0f, 0x29, 0x23, 0x05,\n",
            "  0xf0, 0x24, 0x20, 0xfa, 0x0c, 0x12, 0x00, 0x06, 0x00, 0xf4, 0xf5, 0x18,\n",
            "  0x05, 0x07, 0x15, 0xd1, 0x06, 0x19, 0xef, 0xd8, 0x19, 0xe8, 0x24, 0x14,\n",
            "  0xf6, 0xf2, 0xd3, 0xfb, 0x06, 0xe9, 0xf5, 0xfd, 0xe4, 0xde, 0xde, 0xee,\n",
            "  0x0b, 0x02, 0xe2, 0x01, 0xd3, 0xee, 0xf4, 0xf1, 0xd2, 0xe6, 0xfa, 0xfe,\n",
            "  0xf0, 0xfc, 0x00, 0xf4, 0x04, 0xf8, 0x12, 0x16, 0x15, 0xf6, 0xe6, 0x0e,\n",
            "  0x13, 0x13, 0x07, 0xf7, 0xfa, 0xfa, 0x0b, 0x15, 0x05, 0xf8, 0x04, 0x3b,\n",
            "  0x2f, 0xe2, 0xf4, 0xf9, 0x2a, 0x0e, 0x0e, 0xdf, 0xe6, 0xfa, 0x0c, 0x1c,\n",
            "  0x12, 0x0a, 0x20, 0x18, 0x27, 0x2d, 0xf9, 0x1d, 0xe9, 0x24, 0x0e, 0xfc,\n",
            "  0x0e, 0x26, 0x09, 0xfe, 0xf8, 0xf6, 0x26, 0xf9, 0xfb, 0xe2, 0x22, 0x28,\n",
            "  0x16, 0x2e, 0x13, 0x0b, 0xf8, 0x23, 0x0e, 0x00, 0x18, 0x00, 0x08, 0x00,\n",
            "  0x07, 0x00, 0x0c, 0x00, 0x10, 0x00, 0x14, 0x00, 0x0e, 0x00, 0x00, 0x00,\n",
            "  0x00, 0x00, 0x00, 0x09, 0x10, 0x00, 0x00, 0x00, 0x02, 0x00, 0x00, 0x00,\n",
            "  0x14, 0x00, 0x00, 0x00, 0x38, 0x00, 0x00, 0x00, 0x02, 0x00, 0x00, 0x00,\n",
            "  0x0f, 0x00, 0x00, 0x00, 0x1e, 0x00, 0x00, 0x00, 0x17, 0x00, 0x00, 0x00,\n",
            "  0x73, 0x65, 0x71, 0x75, 0x65, 0x6e, 0x74, 0x69, 0x61, 0x6c, 0x2f, 0x64,\n",
            "  0x65, 0x6e, 0x73, 0x65, 0x2f, 0x4d, 0x61, 0x74, 0x4d, 0x75, 0x6c, 0x00,\n",
            "  0x0c, 0x00, 0x0c, 0x00, 0x00, 0x00, 0x00, 0x00, 0x04, 0x00, 0x08, 0x00,\n",
            "  0x0c, 0x00, 0x00, 0x00, 0x08, 0x00, 0x00, 0x00, 0x0c, 0x00, 0x00, 0x00,\n",
            "  0x01, 0x00, 0x00, 0x00, 0xb4, 0xcf, 0x28, 0x3c, 0x01, 0x00, 0x00, 0x00,\n",
            "  0x00, 0x00, 0x00, 0x00, 0x00, 0x00, 0x00, 0x00, 0x00, 0x00, 0x00, 0x00,\n",
            "  0x14, 0x00, 0x18, 0x00, 0x04, 0x00, 0x00, 0x00, 0x08, 0x00, 0x0c, 0x00,\n",
            "  0x10, 0x00, 0x00, 0x00, 0x00, 0x00, 0x14, 0x00, 0x14, 0x00, 0x00, 0x00,\n",
            "  0x14, 0x00, 0x00, 0x00, 0x01, 0x00, 0x00, 0x00, 0x18, 0x00, 0x00, 0x00,\n",
            "  0x44, 0x00, 0x00, 0x00, 0x34, 0x00, 0x00, 0x00, 0x02, 0x00, 0x00, 0x00,\n",
            "  0x01, 0x00, 0x00, 0x00, 0x1e, 0x00, 0x00, 0x00, 0x1d, 0x00, 0x00, 0x00,\n",
            "  0x73, 0x65, 0x72, 0x76, 0x69, 0x6e, 0x67, 0x5f, 0x64, 0x65, 0x66, 0x61,\n",
            "  0x75, 0x6c, 0x74, 0x5f, 0x64, 0x65, 0x6e, 0x73, 0x65, 0x5f, 0x69, 0x6e,\n",
            "  0x70, 0x75, 0x74, 0x3a, 0x30, 0x00, 0x00, 0x00, 0x02, 0x00, 0x00, 0x00,\n",
            "  0xff, 0xff, 0xff, 0xff, 0x1e, 0x00, 0x00, 0x00, 0xfc, 0xff, 0xff, 0xff,\n",
            "  0x04, 0x00, 0x04, 0x00, 0x04, 0x00, 0x00, 0x00\n",
            "};\n",
            "unsigned int model_tflite_len = 3416;\n"
          ]
        }
      ]
    }
  ],
  "metadata": {
    "colab": {
      "name": "movement_classifier.ipynb",
      "provenance": [],
      "collapsed_sections": [],
      "authorship_tag": "ABX9TyPHEOC7h8E8UzVb9uqXrRs0",
      "include_colab_link": true
    },
    "kernelspec": {
      "display_name": "Python 3",
      "name": "python3"
    },
    "language_info": {
      "name": "python"
    },
    "accelerator": "GPU",
    "gpuClass": "standard"
  },
  "nbformat": 4,
  "nbformat_minor": 0
}